{
  "nbformat": 4,
  "nbformat_minor": 0,
  "metadata": {
    "colab": {
      "name": "A4_Q2_joy's_version.ipynb",
      "provenance": [],
      "collapsed_sections": []
    },
    "kernelspec": {
      "display_name": "Python 3",
      "name": "python3"
    },
    "language_info": {
      "name": "python"
    }
  },
  "cells": [
    {
      "cell_type": "code",
      "metadata": {
        "id": "3-N6zRBPwKpg"
      },
      "source": [
        "import numpy as np\n",
        "import pandas as pd "
      ],
      "execution_count": null,
      "outputs": []
    },
    {
      "cell_type": "code",
      "metadata": {
        "id": "tXNvl2erDB5E"
      },
      "source": [
        "api_key = 'v4IdZHk57NCd10ibBf2aRfNoW'\n",
        "\n",
        "api_secret_key = 'DzgXn6Ne7UgIRBRa8NhEm3EI5E02R1JfXK06AfTQuXkJOTHaDK'\n",
        "\n",
        "access_key =  '1107526326049632256-OSbgMkGepOw7DykXrtraeY1urr5nhP'\n",
        "\n",
        "access_secret = '7cUYUn5sC8U1pLbJ6athh5rlPy3opr7J4GLOSfZbJ1JjQ'"
      ],
      "execution_count": null,
      "outputs": []
    },
    {
      "cell_type": "code",
      "metadata": {
        "id": "Biz-gydhDIC4"
      },
      "source": [
        "import tweepy as tw\n",
        "import pandas as pd\n",
        "\n",
        "# Use credentials to authorize access\n",
        "auth = tw.OAuthHandler(api_key, api_secret_key)\n",
        "auth.set_access_token(access_key, access_secret)\n",
        "api = tw.API(auth, wait_on_rate_limit=True)"
      ],
      "execution_count": null,
      "outputs": []
    },
    {
      "cell_type": "code",
      "metadata": {
        "id": "amj1SQtP7EX7"
      },
      "source": [
        "def search_positive(search_words, num_item):\n",
        "  search_with_filter = search_words + \" -filter:retweets\"\n",
        "  date_since = \"2020-01-01\"\n",
        "  word = tw.Cursor(api.search,\n",
        "                        q=search_with_filter,\n",
        "                        lang=\"en\",\n",
        "                        since=date_since,\n",
        "                        result_type = 'recent').items(num_item)\n",
        "  a = [tweet.text for tweet in word]\n",
        "  df = pd.DataFrame(a, columns = ['tweet'])\n",
        "  df['attitude'] = 1\n",
        "  return df\n",
        "\n",
        "def search_negative(search_words, num_item):\n",
        "  search_with_filter = search_words + \" -filter:retweets\"\n",
        "  date_since = \"2020-01-01\"\n",
        "  word = tw.Cursor(api.search,\n",
        "                        q=search_with_filter,\n",
        "                        lang=\"en\",\n",
        "                        since=date_since,\n",
        "                        result_type = 'recent').items(num_item)\n",
        "  a = [tweet.text for tweet in word]\n",
        "  df = pd.DataFrame(a, columns = ['tweet'])\n",
        "  df['attitude'] = -1\n",
        "  return df"
      ],
      "execution_count": null,
      "outputs": []
    },
    {
      "cell_type": "code",
      "metadata": {
        "id": "rNDkqoxHy8w_"
      },
      "source": [
        "maskdf1 = search_positive('#maskon', 350)\n",
        "maskdf2 = search_positive('#wearmask', 400)"
      ],
      "execution_count": null,
      "outputs": []
    },
    {
      "cell_type": "code",
      "metadata": {
        "id": "wEwgPM9a8QGN"
      },
      "source": [
        "maskdf3 = search_positive('#wearamask', 3000)"
      ],
      "execution_count": null,
      "outputs": []
    },
    {
      "cell_type": "code",
      "metadata": {
        "id": "Hft_eJBj0PxW"
      },
      "source": [
        "n_maskdf1 = search_negative('#nomasks', 400)\n",
        "n_maskdf2 = search_negative('#TakeOffYourMask', 3000)\n",
        "n_maskdf3 = search_negative('#maskfree', 40)"
      ],
      "execution_count": null,
      "outputs": []
    },
    {
      "cell_type": "code",
      "metadata": {
        "id": "SQDKlx5LC28U",
        "colab": {
          "base_uri": "https://localhost:8080/",
          "height": 409
        },
        "outputId": "31ec0583-5d04-4cea-d52d-a3f5e962fe07"
      },
      "source": [
        "df = pd.concat([maskdf1, maskdf2, maskdf3, n_maskdf1, n_maskdf2, n_maskdf3], ignore_index=True)\n",
        "df = df.drop_duplicates()\n",
        "df"
      ],
      "execution_count": null,
      "outputs": [
        {
          "output_type": "execute_result",
          "data": {
            "text/html": [
              "<div>\n",
              "<style scoped>\n",
              "    .dataframe tbody tr th:only-of-type {\n",
              "        vertical-align: middle;\n",
              "    }\n",
              "\n",
              "    .dataframe tbody tr th {\n",
              "        vertical-align: top;\n",
              "    }\n",
              "\n",
              "    .dataframe thead th {\n",
              "        text-align: right;\n",
              "    }\n",
              "</style>\n",
              "<table border=\"1\" class=\"dataframe\">\n",
              "  <thead>\n",
              "    <tr style=\"text-align: right;\">\n",
              "      <th></th>\n",
              "      <th>tweet</th>\n",
              "      <th>attitude</th>\n",
              "    </tr>\n",
              "  </thead>\n",
              "  <tbody>\n",
              "    <tr>\n",
              "      <th>0</th>\n",
              "      <td>Prevent CORONA from spreading. Always wear mas...</td>\n",
              "      <td>1</td>\n",
              "    </tr>\n",
              "    <tr>\n",
              "      <th>1</th>\n",
              "      <td>#SAFEkaDITOsaDDH\\n\\n#DidYouKnow that wearing a...</td>\n",
              "      <td>1</td>\n",
              "    </tr>\n",
              "    <tr>\n",
              "      <th>2</th>\n",
              "      <td>My office for the day 😎\\n\\n#CannaProShow\\n#DJM...</td>\n",
              "      <td>1</td>\n",
              "    </tr>\n",
              "    <tr>\n",
              "      <th>3</th>\n",
              "      <td>🖤\\nMask up to protect loved ones!\\n#miranburha...</td>\n",
              "      <td>1</td>\n",
              "    </tr>\n",
              "    <tr>\n",
              "      <th>4</th>\n",
              "      <td>@Lophophanes @NatNewbiggin X20 Haymarket to Ly...</td>\n",
              "      <td>1</td>\n",
              "    </tr>\n",
              "    <tr>\n",
              "      <th>...</th>\n",
              "      <td>...</td>\n",
              "      <td>...</td>\n",
              "    </tr>\n",
              "    <tr>\n",
              "      <th>7185</th>\n",
              "      <td>So according to this CDC study in 2020, masks ...</td>\n",
              "      <td>-1</td>\n",
              "    </tr>\n",
              "    <tr>\n",
              "      <th>7186</th>\n",
              "      <td>@Benz_girl7 @FOXLA Doubt it seriously #freecal...</td>\n",
              "      <td>-1</td>\n",
              "    </tr>\n",
              "    <tr>\n",
              "      <th>7187</th>\n",
              "      <td>@BeeBeekatz @MsJoeCool I walked into a gas sta...</td>\n",
              "      <td>-1</td>\n",
              "    </tr>\n",
              "    <tr>\n",
              "      <th>7188</th>\n",
              "      <td>And, no mask required signs to be seen anywher...</td>\n",
              "      <td>-1</td>\n",
              "    </tr>\n",
              "    <tr>\n",
              "      <th>7189</th>\n",
              "      <td>Out and about #maskfree this weekend in Melbou...</td>\n",
              "      <td>-1</td>\n",
              "    </tr>\n",
              "  </tbody>\n",
              "</table>\n",
              "<p>7151 rows × 2 columns</p>\n",
              "</div>"
            ],
            "text/plain": [
              "                                                  tweet  attitude\n",
              "0     Prevent CORONA from spreading. Always wear mas...         1\n",
              "1     #SAFEkaDITOsaDDH\\n\\n#DidYouKnow that wearing a...         1\n",
              "2     My office for the day 😎\\n\\n#CannaProShow\\n#DJM...         1\n",
              "3     🖤\\nMask up to protect loved ones!\\n#miranburha...         1\n",
              "4     @Lophophanes @NatNewbiggin X20 Haymarket to Ly...         1\n",
              "...                                                 ...       ...\n",
              "7185  So according to this CDC study in 2020, masks ...        -1\n",
              "7186  @Benz_girl7 @FOXLA Doubt it seriously #freecal...        -1\n",
              "7187  @BeeBeekatz @MsJoeCool I walked into a gas sta...        -1\n",
              "7188  And, no mask required signs to be seen anywher...        -1\n",
              "7189  Out and about #maskfree this weekend in Melbou...        -1\n",
              "\n",
              "[7151 rows x 2 columns]"
            ]
          },
          "metadata": {
            "tags": []
          },
          "execution_count": 269
        }
      ]
    },
    {
      "cell_type": "markdown",
      "metadata": {
        "id": "OxuuEaNBFSNT"
      },
      "source": [
        "1) Tokenize"
      ]
    },
    {
      "cell_type": "code",
      "metadata": {
        "id": "xiaiRQ-eEdPn"
      },
      "source": [
        "def tokenize(df):\n",
        "  token = []\n",
        "  for tweet in df['tweet']:\n",
        "    token.append(tweet.split())\n",
        "  return token"
      ],
      "execution_count": null,
      "outputs": []
    },
    {
      "cell_type": "code",
      "metadata": {
        "id": "Kj1UxWlz3sH5"
      },
      "source": [
        "df['tokens'] = tokenize(df)"
      ],
      "execution_count": null,
      "outputs": []
    },
    {
      "cell_type": "markdown",
      "metadata": {
        "id": "MIpaekJ1Fs8Z"
      },
      "source": [
        "2) Remove URL"
      ]
    },
    {
      "cell_type": "code",
      "metadata": {
        "id": "bDv-_fZiFcYH"
      },
      "source": [
        "import re\n",
        "\n",
        "def no_links(df):\n",
        "  tokens_no_links = []\n",
        "  for tweet in df['tokens']:\n",
        "    tokens_no_links.append([re.sub('^http.*$','', t) for t in tweet])\n",
        "  return tokens_no_links\n",
        "\n",
        "def no_at(df):\n",
        "  tokens_no_at = []\n",
        "  for tweet in df['tokens']:\n",
        "    tokens_no_at.append([re.sub('^@.*$','', t) for t in tweet])\n",
        "  return tokens_no_at\n"
      ],
      "execution_count": null,
      "outputs": []
    },
    {
      "cell_type": "code",
      "metadata": {
        "id": "KNSXj3x23u8n"
      },
      "source": [
        "df['tokens'] = no_links(df)\n",
        "df['tokens'] = no_at(df)"
      ],
      "execution_count": null,
      "outputs": []
    },
    {
      "cell_type": "markdown",
      "metadata": {
        "id": "qaKlTJI9FxoY"
      },
      "source": [
        "3) Remove tags that we used for searching"
      ]
    },
    {
      "cell_type": "code",
      "metadata": {
        "id": "ksFilY0CFxER"
      },
      "source": [
        "def remove_tag(df, tag):\n",
        "  tokens = []\n",
        "  for tweet in df['tokens']:\n",
        "    tokens.append([re.sub(tag,'', t) for t in tweet])\n",
        "  return tokens\n"
      ],
      "execution_count": null,
      "outputs": []
    },
    {
      "cell_type": "code",
      "metadata": {
        "id": "JEUITyXi3z5I"
      },
      "source": [
        "df['tokens'] = remove_tag(df, '^#[mM][aA][sS][kK][oO][nN].*$')\n",
        "df['tokens'] = remove_tag(df, '^#[wW][eE][aA][rR][mM][aA][sS][kK].*$')\n",
        "df['tokens'] = remove_tag(df, '^#[wW][eE][aA][rR][aA][mM][aA][sS][kK].*$')\n",
        "df['tokens'] = remove_tag(df, '^#[nN][oO][mM][aA][sS][kK][sS].*$')\n",
        "df['tokens'] = remove_tag(df, '^#[tT][aA][kK][eE][oO][fF][fF][yY][oO][uU][rR][mM][aA][sS][kK].*$')\n",
        "df['tokens'] = remove_tag(df, '^#[mM][aA][sS][kK][fF][rR][eE][eE].*$')"
      ],
      "execution_count": null,
      "outputs": []
    },
    {
      "cell_type": "markdown",
      "metadata": {
        "id": "d4wHlL-XJ-U2"
      },
      "source": [
        "4) Remove all punctuation"
      ]
    },
    {
      "cell_type": "code",
      "metadata": {
        "id": "4ZmSbhkOJ5ix"
      },
      "source": [
        "def remove_punct(df):\n",
        "  temp = []\n",
        "  tokens_no_punct = []\n",
        "  for row in df[\"tokens\"]:\n",
        "    temp.append([re.sub('[^\\w\\s]','', t) for t in row])\n",
        "  for row in temp:\n",
        "    tokens_no_punct.append([w for w in row if w != ''])\n",
        "  return tokens_no_punct\n",
        "\n",
        "# Covert all row into lowercase\n",
        "def convert_lower(df):\n",
        "  tokens_lowercase = []\n",
        "  for row in df[\"tokens\"]:\n",
        "    tokens_lowercase.append([t.lower() for t in row])\n",
        "  return tokens_lowercase\n",
        "\n"
      ],
      "execution_count": null,
      "outputs": []
    },
    {
      "cell_type": "code",
      "metadata": {
        "id": "byQXoA7b33Nf"
      },
      "source": [
        "df[\"tokens\"] = remove_punct(df)\n",
        "df[\"tokens\"] = convert_lower(df)"
      ],
      "execution_count": null,
      "outputs": []
    },
    {
      "cell_type": "markdown",
      "metadata": {
        "id": "Hm0gIb0DLJ59"
      },
      "source": [
        "5) Stemming"
      ]
    },
    {
      "cell_type": "code",
      "metadata": {
        "id": "qsNybL9SLGOe"
      },
      "source": [
        "from nltk.stem.porter import *\n",
        "\n",
        "def stem(df):\n",
        "  stemmer = PorterStemmer()\n",
        "  stemed = []\n",
        "  for tweet in df['tokens']:\n",
        "    stemed.append([stemmer.stem(w) for w in tweet])\n",
        "  return stemed\n"
      ],
      "execution_count": null,
      "outputs": []
    },
    {
      "cell_type": "code",
      "metadata": {
        "id": "ON46kRh935m5"
      },
      "source": [
        "df[\"tokens\"] = stem(df)"
      ],
      "execution_count": null,
      "outputs": []
    },
    {
      "cell_type": "markdown",
      "metadata": {
        "id": "2gHB4d5CLskh"
      },
      "source": [
        "6) Remove Stopwords"
      ]
    },
    {
      "cell_type": "code",
      "metadata": {
        "id": "8Qw2PGmnLyiU",
        "colab": {
          "base_uri": "https://localhost:8080/"
        },
        "outputId": "9c2c571f-9100-442c-a7b8-588039b58b32"
      },
      "source": [
        "import nltk\n",
        "from nltk.corpus import stopwords\n",
        "nltk.download('stopwords')\n",
        "\n",
        "def remove_stopwords(df):\n",
        "  sw = stopwords.words('english')[:1000]\n",
        "  tokens_no_sw = []\n",
        "  for row in df['tokens']:\n",
        "    tokens_no_sw.append([w for w in row if w not in sw])\n",
        "  return tokens_no_sw\n"
      ],
      "execution_count": null,
      "outputs": [
        {
          "output_type": "stream",
          "text": [
            "[nltk_data] Downloading package stopwords to /root/nltk_data...\n",
            "[nltk_data]   Package stopwords is already up-to-date!\n"
          ],
          "name": "stdout"
        }
      ]
    },
    {
      "cell_type": "code",
      "metadata": {
        "id": "xX2Jwl4V38dg"
      },
      "source": [
        "df['tokens'] = remove_stopwords(df)"
      ],
      "execution_count": null,
      "outputs": []
    },
    {
      "cell_type": "markdown",
      "metadata": {
        "id": "L1ANQVzILRxw"
      },
      "source": [
        "6) lemmatization"
      ]
    },
    {
      "cell_type": "code",
      "metadata": {
        "id": "sbfvcQa_LRhT",
        "colab": {
          "base_uri": "https://localhost:8080/"
        },
        "outputId": "0d59d046-9378-4ddc-9586-de96c0b7c546"
      },
      "source": [
        "from nltk.stem import WordNetLemmatizer\n",
        "nltk.download('wordnet')\n",
        "\n",
        "def lemmatize(df):\n",
        "  lemmatizer = WordNetLemmatizer()\n",
        "  lem_tokens = []\n",
        "  for row in df['tokens']:\n",
        "    lem_tokens.append([lemmatizer.lemmatize(t) for t in row])\n",
        "  return lem_tokens\n"
      ],
      "execution_count": null,
      "outputs": [
        {
          "output_type": "stream",
          "text": [
            "[nltk_data] Downloading package wordnet to /root/nltk_data...\n",
            "[nltk_data]   Package wordnet is already up-to-date!\n"
          ],
          "name": "stdout"
        }
      ]
    },
    {
      "cell_type": "code",
      "metadata": {
        "id": "m5bg1IuH3_Dj"
      },
      "source": [
        "df['tokens'] = lemmatize(df)"
      ],
      "execution_count": null,
      "outputs": []
    },
    {
      "cell_type": "markdown",
      "metadata": {
        "id": "ncnUAHnLMU6G"
      },
      "source": [
        "7) Count Vectorizing"
      ]
    },
    {
      "cell_type": "code",
      "metadata": {
        "id": "V1DOKW9wMfSw",
        "colab": {
          "base_uri": "https://localhost:8080/"
        },
        "outputId": "c192481a-59b1-4b58-ba70-1c1b60c1506c"
      },
      "source": [
        "from sklearn.feature_extraction.text import CountVectorizer\n",
        "from sklearn.feature_extraction.text import TfidfTransformer\n",
        "from sklearn.model_selection import train_test_split\n",
        "\n",
        "# Separate labels from features, converting to numpy arrays\n",
        "X, y = df['tokens'].to_numpy(), df['attitude'].to_numpy()\n",
        "\n",
        "\n",
        "def override_fcn(doc):\n",
        "  # We expect a list of tokens as input\n",
        "  return doc\n",
        "\n",
        "# Count Vectorizer\n",
        "count_vec = CountVectorizer(\n",
        "    analyzer='word',\n",
        "    tokenizer= override_fcn,\n",
        "    preprocessor= override_fcn,\n",
        "    token_pattern= None,\n",
        "    max_features = 1000)\n",
        "\n",
        "# Remember this output is a Scipy Sparse Array\n",
        "counts = count_vec.fit_transform(X)\n",
        "print(counts.toarray())\n",
        "\n",
        "# Print the names of each of the features (1000 total))\n",
        "print(count_vec.get_feature_names())\n",
        "# Print this mapping as dictionary\n",
        "print(count_vec.vocabulary_)"
      ],
      "execution_count": null,
      "outputs": [
        {
          "output_type": "stream",
          "text": [
            "[[0 0 0 ... 0 0 0]\n",
            " [0 0 0 ... 0 0 0]\n",
            " [0 0 0 ... 0 0 0]\n",
            " ...\n",
            " [0 0 0 ... 0 0 0]\n",
            " [0 0 0 ... 0 0 0]\n",
            " [0 0 0 ... 0 0 0]]\n",
            "['0711377544', '1', '10', '100', '12', '15', '17', '19', '1st', '2', '20', '2020', '2021', '21', '24', '2nd', '3', '30', '379', '3rd', '4', '5', '50', '6', '7', '8', 'abl', 'abov', 'absolut', 'abus', 'accept', 'accord', 'account', 'across', 'act', 'action', 'activ', 'actual', 'adult', 'advic', 'age', 'ago', 'agre', 'ahead', 'aint', 'air', 'alert', 'allah', 'allow', 'almost', 'alon', 'along', 'alreadi', 'also', 'alway', 'amaz', 'america', 'american', 'amp', 'ani', 'announc', 'anoth', 'antimask', 'anyon', 'anyth', 'anyway', 'apart', 'appoint', 'apr', 'april', 'aprilfoolsday', 'area', 'arent', 'arm', 'around', 'arrest', 'art', 'as', 'ask', 'asshol', 'asymptomat', 'avail', 'avoid', 'awar', 'away', 'awesom', 'b', 'babi', 'back', 'bad', 'ban', 'bar', 'base', 'basic', 'bastard', 'batman', 'bc', 'beach', 'beauti', 'becaus', 'becom', 'bed', 'bedroom', 'bedwett', 'befor', 'begin', 'behind', 'believ', 'besaf', 'best', 'bet', 'better', 'biden', 'big', 'birthday', 'bit', 'bitch', 'black', 'bless', 'blue', 'bodi', 'book', 'bori', 'borisjohnsonout', 'boristheliar', 'brain', 'break', 'breath', 'bring', 'build', 'bullshit', 'busi', 'buy', 'c', 'ca', 'california', 'call', 'came', 'canada', 'canadian', 'cannot', 'cant', 'car', 'card', 'care', 'carri', 'case', 'catch', 'caus', 'cdc', 'celebr', 'certain', 'challeng', 'chanc', 'chang', 'check', 'child', 'china', 'choic', 'choos', 'citi', 'citizen', 'civil', 'claim', 'clean', 'clear', 'close', 'cloth', 'clown', 'co', 'cold', 'color', 'colour', 'come', 'comment', 'common', 'commun', 'complet', 'compli', 'complianc', 'confirm', 'consid', 'conspiraci', 'contact', 'continu', 'control', 'cool', 'corona', 'coronaviru', 'coronaviruspakistan', 'correct', 'corrupt', 'cough', 'could', 'count', 'counti', 'countri', 'cours', 'cover', 'covid', 'covid19', 'covid19vaccin', 'covid_19', 'covidiot', 'covidsecondwav', 'covidvaccin', 'covidー19', 'crap', 'crazi', 'creat', 'cri', 'critic', 'cross', 'crowd', 'current', 'curv', 'custom', 'dad', 'daili', 'damag', 'damn', 'danger', 'dark', 'data', 'date', 'day', 'dead', 'deadli', 'deal', 'dear', 'death', 'definit', 'degre', 'demand', 'democrat', 'deserv', 'design', 'despit', 'destroy', 'diaper', 'didnt', 'die', 'differ', 'diseas', 'dissolveparlia', 'distanc', 'distribut', 'diva', 'doctor', 'doctorsday2021', 'doe', 'doesnt', 'done', 'dont', 'door', 'dose', 'doubl', 'dr', 'drink', 'drive', 'drop', 'due', 'dumb', 'dure', 'e', 'earli', 'easi', 'easter', 'easterweekend', 'eat', 'educ', 'effect', 'efficaci', 'either', 'el', 'elect', 'elig', 'embarrass', 'employe', 'encourag', 'end', 'endlockdownnow', 'endthelockdown', 'enjoy', 'enough', 'enoughisenough', 'ensur', 'entir', 'especi', 'essenti', 'even', 'event', 'ever', 'everi', 'everyon', 'everyth', 'evid', 'exactli', 'excus', 'exempt', 'exercis', 'exist', 'expect', 'expert', 'expo', 'eye', 'f', 'face', 'facemask', 'fact', 'famili', 'fantast', 'far', 'fast', 'fauci', 'favorit', 'fear', 'featur', 'feel', 'fellow', 'felt', 'festiv', 'fight', 'figur', 'fill', 'final', 'find', 'fine', 'first', 'fit', 'flatten', 'fli', 'florida', 'flu', 'folk', 'follow', 'food', 'fool', 'foot', 'forc', 'forev', 'forget', 'forward', 'found', 'fraud', 'free', 'freedom', 'freemason', 'fresh', 'friday', 'fridaymorn', 'fridaymotiv', 'fridayvib', 'friend', 'front', 'ft', 'fuck', 'full', 'fulli', 'fun', 'funni', 'futur', 'g', 'game', 'gather', 'get', 'getvaccin', 'girl', 'give', 'given', 'glad', 'global', 'go', 'god', 'gone', 'gonna', 'good', 'goodfriday', 'goodnight', 'got', 'gotten', 'govern', 'governor', 'govt', 'grate', 'great', 'group', 'grow', 'guard', 'guess', 'guidelin', 'guy', 'gym', 'h', 'ha', 'half', 'hand', 'happen', 'happi', 'happyeast', 'hard', 'harm', 'hashtag', 'hate', 'havent', 'head', 'health', 'healthcar', 'healthi', 'hear', 'heard', 'heart', 'hell', 'help', 'hey', 'hi', 'hide', 'high', 'highest', 'hit', 'hoax', 'hold', 'holi', 'holiday', 'home', 'honjbmuturieffect', 'hope', 'hospit', 'hour', 'hous', 'hug', 'huge', 'human', 'husband', 'icu', 'id', 'idea', 'idiot', 'ignor', 'ill', 'im', 'imagin', 'immun', 'import', 'includ', 'increas', 'india', 'indiafightscorona', 'indoor', 'infect', 'inform', 'insan', 'insid', 'instead', 'interest', 'ireland', 'isnt', 'isol', 'issu', 'ive', 'ivermectinwork', 'jab', 'jesu', 'job', 'johnson', 'johnsonmustgo', 'join', 'joke', 'joy', 'justsayno', 'karen', 'kbf', 'keep', 'kid', 'kill', 'kind', 'king', 'knew', 'knight', 'know', 'l', 'lack', 'ladi', 'last', 'later', 'latest', 'law', 'le', 'lead', 'learn', 'least', 'leav', 'left', 'let', 'lie', 'life', 'lift', 'light', 'like', 'limpingrailabow', 'line', 'link', 'list', 'listen', 'liter', 'littl', 'live', 'local', 'lock', 'lockdown', 'lol', 'london', 'long', 'longer', 'longterm', 'look', 'lord', 'lose', 'lost', 'lot', 'love', 'low', 'lung', 'mad', 'made', 'maharashtra', 'maintain', 'major', 'make', 'man', 'mandat', 'mandatori', 'mani', 'march', 'mark', 'mask', 'maskless', 'masksoff', 'maskup', 'maskupindia', 'mass', 'matter', 'may', 'mayb', 'mean', 'measur', 'medic', 'medium', 'meet', 'member', 'men', 'mental', 'messag', 'middl', 'might', 'million', 'mind', 'mine', 'minut', 'miss', 'moderna', 'mom', 'money', 'monster', 'month', 'morn', 'moron', 'mouth', 'move', 'mp', 'much', 'mumbai', 'musicmatt', 'must', 'muzzl', 'n', 'name', 'nation', 'natur', 'near', 'necessari', 'need', 'neg', 'neighbor', 'neighbourday2021', 'never', 'new', 'newmusicfriday', 'news', 'next', 'nice', 'night', 'nobodi', 'nonsens', 'normal', 'nose', 'noth', 'notic', 'novaccin', 'novaccinepassport', 'number', 'nurs', 'offer', 'offic', 'offici', 'oh', 'ok', 'okay', 'old', 'onc', 'one', 'onli', 'onlin', 'ontario', 'open', 'opinion', 'order', 'outsid', 'p', 'paid', 'pakistan', 'pandem', 'parent', 'park', 'part', 'pas', 'passport', 'past', 'patient', 'pay', 'peac', 'peopl', 'per', 'perfect', 'period', 'person', 'pfizer', 'photo', 'pic', 'pick', 'piec', 'pl', 'place', 'plan', 'planet', 'play', 'player', 'plea', 'plu', 'plz', 'pm', 'po', 'point', 'polic', 'polit', 'politician', 'poll', 'popul', 'posit', 'possibl', 'post', 'power', 'ppl', 'practic', 'pray', 'precaut', 'pretti', 'prevent', 'print', 'probabl', 'problem', 'product', 'profession', 'propaganda', 'protect', 'protest', 'protocol', 'proud', 'prove', 'proven', 'public', 'pull', 'punjab', 'push', 'put', 'quarantin', 'question', 'quit', 'r', 'radiostradbrok', 'ragnarok', 'rate', 'rather', 'reach', 'read', 'readi', 'real', 'realis', 'realli', 'reason', 'receiv', 'record', 'recov', 'recoveri', 'reduc', 'refus', 'relat', 'remain', 'rememb', 'remind', 'remov', 'reopen', 'report', 'request', 'requir', 'research', 'resid', 'resist', 'respect', 'respons', 'rest', 'restaur', 'restrict', 'result', 'return', 'retweet', 'ridicul', 'right', 'rise', 'risk', 'road', 'roll', 'rose', 'rule', 'run', 'ruto', 'sa', 'sad', 'safe', 'safeti', 'said', 'sake', 'sanit', 'saturday', 'saturdaymotiv', 'save', 'saw', 'say', 'scam', 'scamdem', 'scare', 'scari', 'school', 'scienc', 'scientif', 'scientist', 'season', 'second', 'see', 'seem', 'seen', 'self', 'selfish', 'sen', 'send', 'seriou', 'serious', 'servic', 'set', 'sever', 'shame', 'share', 'sheep', 'shit', 'shock', 'shop', 'short', 'shot', 'shouldnt', 'show', 'shut', 'sick', 'side', 'sign', 'simpl', 'simpli', 'sinc', 'singl', 'sit', 'situat', 'small', 'smart', 'smile', 'snf', 'social', 'socialdist', 'socialdistanc', 'someon', 'someth', 'soon', 'sop', 'sore', 'sorri', 'sound', 'space', 'speak', 'special', 'spend', 'spike', 'spread', 'spring', 'st', 'staff', 'stand', 'star', 'start', 'state', 'stay', 'stayathom', 'stayhom', 'staysaf', 'step', 'stick', 'still', 'stink', 'stop', 'store', 'stori', 'straight', 'strong', 'studi', 'stupid', 'suffer', 'suggest', 'summer', 'sun', 'sunday', 'sundaybrunch', 'super', 'suppli', 'support', 'sure', 'surg', 'surpris', 'surviv', 'symptom', 'system', 'tag', 'take', 'takeoffthemask', 'takeoffyourmask', 'takethelead', 'talk', 'tax', 'tcm', 'teach', 'team', 'tell', 'test', 'texa', 'texan', 'th', 'thank', 'theatr', 'themselv', 'theorist', 'thewalkingdead', 'theyr', 'theyv', 'thi', 'thing', 'think', 'thinkbigsundaywithmarsha', 'third', 'thor', 'though', 'thought', 'thousand', 'three', 'till', 'time', 'tip', 'tire', 'today', 'togeth', 'told', 'tomorrow', 'tonight', 'took', 'top', 'total', 'toward', 'town', 'train', 'transmiss', 'travel', 'treat', 'trend', 'tri', 'true', 'trump', 'trumpistrash', 'trust', 'truth', 'turn', 'tweet', 'twitter', 'two', 'u', 'uhuru', 'uk', 'understand', 'unit', 'unless', 'unmask', 'updat', 'urg', 'usa', 'use', 'useless', 'usual', 'v', 'vaccin', 'vaccinepassport', 'variant', 'vax', 'ventil', 'veri', 'via', 'video', 'view', 'vigil', 'viru', 'virus', 'visit', 'vitamin', 'vote', 'w', 'wa', 'wait', 'wake', 'walk', 'want', 'war', 'warn', 'wash', 'washyourhand', 'watch', 'water', 'wave', 'way', 'wear', 'wed', 'wednesday', 'week', 'weekend', 'well', 'went', 'weve', 'whatev', 'whi', 'white', 'whole', 'win', 'wisconsin', 'wisdom', 'wish', 'wit', 'within', 'without', 'woman', 'wonder', 'wont', 'word', 'work', 'worker', 'world', 'worldtheaterday', 'worn', 'worri', 'wors', 'worth', 'would', 'wouldnt', 'wow', 'wrong', 'wtf', 'ya', 'yall', 'ye', 'yeah', 'year', 'yesterday', 'yet', 'yo', 'york', 'youll', 'young', 'youv', 'zero']\n",
            "{'prevent': 667, 'corona': 187, 'spread': 809, 'alway': 54, 'wear': 951, 'mask': 535, 'public': 680, 'place': 642, 'face': 307, 'time': 880, 'increas': 445, 'p': 618, 'offic': 603, 'day': 225, 'protect': 674, 'love': 520, 'one': 610, 'maskup': 538, 'covid_19': 202, 'pandem': 621, 'black': 117, 'short': 776, 'walk': 941, 'peopl': 631, 'open': 614, 'accept': 30, 'trust': 902, 'suppli': 839, 'person': 635, 'hey': 414, 'know': 479, 'travel': 895, 'especi': 288, 'kid': 473, 'famili': 310, 'thing': 870, 'texa': 859, 'as': 77, 'im': 440, 'road': 730, 'follow': 335, 'becom': 100, 'damn': 220, 'posit': 658, 'requir': 714, 'w': 937, 'enjoy': 283, 'today': 883, 'well': 956, 'back': 88, 'togeth': 884, 'make': 528, 'happi': 398, 'easter': 267, 'u': 908, 'least': 490, 'agre': 42, 'good': 376, 'sure': 841, 'seem': 759, 'like': 498, 'date': 224, 'socialdistanc': 796, 'fresh': 348, 'yet': 993, 'thi': 869, 'necessari': 580, 'covid': 199, 'guidelin': 390, 'job': 463, 'lockdown': 509, 'busi': 131, 'control': 185, 'two': 907, 'simpl': 784, '1': 1, 'safeti': 739, 'case': 146, 'cross': 212, 'mark': 534, 'past': 627, '24': 14, 'hour': 428, 'covid19': 200, 'updat': 915, 'report': 712, 'new': 586, 'remind': 709, 'stayathom': 818, 'build': 129, 'tonight': 887, '3': 16, 'pick': 639, 'friday': 349, 'fridayvib': 352, 'night': 591, 'year': 991, 'let': 493, 'celebr': 150, 'friend': 353, 'commun': 176, 'safe': 738, 'american': 57, 'vaccin': 922, 'folk': 334, 'f': 306, 'thank': 862, 'child': 156, 'special': 806, 'need': 581, 'event': 291, 'white': 961, 'nurs': 601, 'healthcar': 407, 'worker': 975, 'feel': 318, 'isnt': 456, 'go': 372, 'dure': 263, 'around': 74, 'got': 379, 'second': 757, 'shot': 777, 'fellow': 319, 'take': 848, 'serious': 766, 'canada': 138, 'cold': 170, 'insid': 452, 'shop': 775, 'said': 740, 'ever': 292, '30': 17, 'minut': 558, 'cannot': 140, 'wait': 939, 'see': 758, 'theatr': 863, 'husband': 433, 'weekend': 955, 'game': 363, 'life': 495, 'live': 506, 'put': 684, 'deal': 228, 'onli': 611, 'health': 406, 'member': 549, 'restrict': 722, 'close': 166, 'april': 69, 'spring': 810, 'break': 126, 'wish': 966, 'staff': 812, 'run': 734, 'half': 395, 'get': 365, 'dont': 253, 'want': 942, 'still': 823, 'tri': 898, 'part': 624, 'help': 413, 'fight': 322, 'pas': 625, 'law': 486, 'mandat': 530, 'even': 290, 'wtf': 986, 'art': 76, 'print': 668, 'awesom': 85, 'product': 671, 'plea': 647, 'bring': 128, 'come': 173, 'ensur': 286, 'fool': 337, 'bless': 118, 'anoth': 61, 'view': 930, 'share': 771, 'hope': 426, 'amp': 58, 'season': 756, 'car': 142, 'suffer': 832, 'alreadi': 52, 'mani': 532, 'may': 542, 'would': 982, 'care': 144, 'abl': 26, 'air': 45, 'rule': 733, 'someon': 797, 'fulli': 358, 'n': 575, 'made': 524, 'fit': 329, 'st': 811, 'lot': 519, 'twitter': 906, 'everi': 293, 'send': 764, 'huge': 431, 'hug': 430, 'first': 328, 'video': 929, 'great': 385, 'everyon': 294, 'tell': 857, 'abov': 27, 'nose': 595, 'ill': 439, 'self': 761, 'perfect': 633, 'stay': 817, 'sinc': 786, 'could': 193, 'watch': 947, 'away': 84, 'long': 512, 'ha': 394, 'never': 585, 'color': 171, 'polit': 654, 'number': 600, 'way': 950, 'wa': 938, 'joke': 467, 'say': 747, 'save': 745, 'much': 570, 'design': 236, 'funni': 360, 'relat': 706, 'facemask': 308, 'buy': 132, 'drink': 258, 'easterweekend': 268, 'monster': 563, 'viru': 932, 'quarantin': 685, 'alert': 46, 'keep': 472, 'step': 821, 'breath': 127, 'passport': 626, 'whi': 960, 'wouldnt': 983, 'real': 696, 'win': 963, 'group': 386, 'top': 889, 'leav': 491, 'though': 875, '1st': 8, 'aprilfoolsday': 70, 'cool': 186, 'imagin': 441, 'play': 645, 'fli': 331, 'hear': 409, 'choos': 159, 'maintain': 526, 'social': 794, 'distanc': 245, 'morn': 565, 'awar': 83, 'import': 443, 'polic': 653, 'latest': 485, 'differ': 242, 'mine': 557, 'peac': 630, 'realli': 698, 'matter': 541, 'seen': 760, 'check': 155, 'full': 357, 'pay': 629, 'v': 921, 'asymptomat': 80, 'photo': 637, 'coronaviru': 188, 'turn': 904, 'request': 713, '2021': 12, 'excus': 298, 'reason': 699, 'listen': 503, 'learn': 489, 'chang': 154, 'mind': 556, 'ye': 989, 'daili': 218, 'activ': 36, 'fact': 309, 'world': 976, 'reach': 693, 'total': 890, 'million': 555, 'recov': 702, 'continu': 184, 'definit': 231, 'bc': 96, 'ive': 459, 'fun': 359, 'c': 133, 'final': 325, 'messag': 552, 'indoor': 448, 'space': 804, 'state': 816, 'call': 136, 'hi': 415, 'test': 858, 'neg': 582, 'r': 688, 'right': 727, 'noth': 596, 'link': 501, 'rise': 728, 'vigil': 931, 'pfizer': 636, 'next': 589, 'jab': 461, 'set': 768, 'vax': 925, 'washyourhand': 946, 'across': 33, 'countri': 196, 'week': 954, 'last': 483, 'govt': 383, 'citi': 160, 'look': 515, 'visit': 934, 'support': 840, 'guy': 391, 'absolut': 28, 'hate': 403, 'eat': 269, 'actual': 37, 'youll': 996, 'find': 326, '2': 9, 'doe': 250, 'lock': 508, 'foot': 338, 'caus': 148, 'lead': 488, 'avail': 81, 'sad': 737, 'complet': 177, '2nd': 15, 'meet': 548, 'nation': 577, 'book': 121, 'free': 345, 'sign': 783, 'littl': 505, 'question': 686, 'think': 871, 'school': 752, 'york': 995, 'cours': 197, 'crazi': 208, 'flu': 333, 'work': 974, 'almost': 49, 'veri': 927, 'trend': 897, 'london': 511, 'befor': 104, 'use': 918, 'store': 826, 'respons': 719, 'forget': 341, 'head': 405, 'tag': 847, 'summer': 834, 'staysaf': 820, 'pl': 641, 'cant': 141, 'tcm': 854, 'ft': 355, 'doctorsday2021': 249, 'man': 529, 'biden': 112, 'cdc': 149, 'fear': 316, 'surg': 842, 'piec': 640, 'bit': 115, 'home': 424, 'forev': 340, 'word': 973, 'heart': 411, 'rose': 732, 'poll': 656, 'masksoff': 537, '100': 3, 'found': 343, 'talk': 852, 'start': 815, 'point': 652, 'men': 550, 'instead': 453, 'expert': 303, 'conspiraci': 182, 'theorist': 865, 'ladi': 482, 'came': 137, 'coronaviruspakistan': 189, 'pakistan': 620, 'mom': 561, 'done': 252, 'variant': 924, 'rememb': 708, 'true': 899, 'dose': 255, 'parent': 622, 'le': 487, 'interest': 454, 'pic': 638, 'mumbai': 571, 'ask': 78, 'hospit': 427, 'india': 446, 'holi': 422, 'drive': 259, 'march': 533, 'saw': 746, '20': 10, 'readi': 695, 'citizen': 161, 'beauti': 98, 'end': 280, 'due': 261, 'hard': 400, 'joy': 468, 'festiv': 321, 'god': 373, 'sanit': 742, 'colour': 172, 'idea': 436, 'stop': 825, 'outsid': 617, 'action': 35, 'strong': 829, 'tire': 882, 'b': 86, 'lol': 510, 'counti': 195, 'current': 214, 'quit': 687, 'post': 660, 'plz': 649, 'stayhom': 819, 'sundaybrunch': 837, 'amaz': 55, 'human': 432, 'neighbourday2021': 584, 'wonder': 971, 'babi': 87, 'smile': 792, 'hit': 419, 'behind': 106, 'water': 948, 'unit': 912, 'arm': 73, 'money': 562, 'hold': 421, 'girl': 367, 'ani': 59, 'wont': 972, 'die': 241, 'better': 111, 'notic': 597, 'sunday': 836, 'doesnt': 251, 'wed': 952, 'global': 371, 'immun': 442, 'offici': 604, 'yesterday': 992, 'saturday': 743, 'snf': 793, 'worldtheaterday': 977, 'woman': 970, 'e': 264, 'enough': 284, 'dr': 257, 'old': 608, 'sake': 741, 'speak': 805, 'local': 507, 'resid': 716, 'situat': 789, 'urg': 916, 'aint': 44, 'nobodi': 592, 'highest': 418, 'fuck': 356, 'move': 568, 'ya': 987, 'bodi': 120, 'yeah': 990, 'scientist': 755, 'covidvaccin': 205, '5': 21, 'count': 194, 'infect': 449, 'toward': 891, 'covidsecondwav': 204, 'elig': 276, 'dear': 229, 'front': 354, 'news': 588, 'wave': 949, 'went': 957, 'ppl': 662, 'cough': 192, 'death': 230, 'normal': 594, 'becaus': 99, 'lost': 518, 'happyeast': 399, '6': 23, 'understand': 911, 'gonna': 375, 'happen': 397, 'tweet': 905, 'sop': 800, 'covidiot': 203, 'catch': 147, '3rd': 19, 'cri': 210, 'straight': 828, 'took': 888, 'base': 92, 'recoveri': 703, 'embarrass': 277, 'apr': 68, 'doctor': 248, 'also': 53, 'risk': 729, 'hous': 429, 'major': 527, 'opinion': 615, 'must': 573, 'easi': 266, 'precaut': 665, 'restaur': 721, 'custom': 216, 'food': 336, 'order': 616, 'onlin': 612, 'worth': 981, 'plan': 643, 'surviv': 844, 'punjab': 682, 'wash': 945, 'hand': 396, 'whole': 962, 'area': 71, 'team': 856, 'name': 576, '2020': 11, 'lack': 481, 'common': 175, 'sen': 763, 'goodfriday': 377, 'practic': 663, 'tip': 881, 'cover': 198, 'icu': 434, 'medic': 546, 'co': 169, 'danger': 221, 'gone': 374, 'spike': 808, 'ca': 134, 'contact': 183, 'issu': 458, 'socialdist': 795, 'besaf': 108, 'expect': 302, 'trump': 900, 'jesu': 462, 'th': 861, 'featur': 317, 'record': 701, 'pray': 664, 'clean': 164, 'allah': 47, 'suggest': 833, 'later': 484, 'smart': 791, 'rate': 691, 'oh': 605, 'knew': 477, 'show': 779, 'young': 997, 'fast': 313, 'fridaymorn': 350, 'fridaymotiv': 351, 'maharashtra': 525, 'healthi': 408, 'po': 651, 'pretti': 666, 'super': 838, 'heard': 410, 'believ': 107, 'dad': 217, 'scari': 751, 'distribut': 246, 'g': 362, 'servic': 767, 'drop': 260, 'neighbor': 583, '19': 7, 'shock': 774, 'fauci': 314, 'prove': 678, 'wit': 967, 'best': 109, 'bet': 110, 'exactli': 297, 'without': 969, 'big': 113, '12': 4, 'ventil': 926, 'choic': 158, 'act': 34, 'harm': 401, 'anyon': 63, 'govern': 381, 'soon': 799, 'high': 417, 'medium': 547, 'claim': 163, 'card': 143, 'till': 879, 'door': 254, 'confirm': 180, 'remain': 707, 'seriou': 765, 'indiafightscorona': 447, '21': 13, 'symptom': 845, 'respect': 718, 'governor': 382, 'politician': 655, 'mp': 569, 'avoid': 82, 'crowd': 213, 'possibl': 659, 'covid19vaccin': 201, 'problem': 670, 'given': 369, 'plu': 648, 'someth': 798, 'essenti': 289, 'along': 51, 'deadli': 227, 'yo': 994, 'wednesday': 953, 'adult': 38, 'three': 878, 'within': 968, 'near': 579, 'rest': 720, 'mandatori': 531, 'offer': 602, 'sa': 736, 'far': 312, 'isol': 457, 'left': 492, 'elect': 275, 'worri': 979, 'hide': 416, 'per': 632, 'reduc': 704, 'freedom': 346, 'havent': 404, 'protocol': 676, 'third': 873, 'h': 393, 'give': 368, 'el': 274, 'stori': 827, 'selfish': 762, 'weve': 958, 'middl': 553, 'cloth': 167, 'stand': 813, 'side': 782, 'effect': 271, 'wow': 984, 'ban': 90, 'rather': 692, 'wors': 980, 'favorit': 315, 'list': 502, 'onc': 609, 'arrest': 75, 'natur': 578, 'age': 40, '50': 22, 'begin': 105, 'fill': 324, 'patient': 628, 'via': 928, 'bed': 101, 'birthday': 114, 'l': 480, '17': 6, 'creat': 209, 'bitch': 116, 'roll': 731, '7': 24, 'war': 943, 'month': 564, 'asshol': 79, 'doubl': 256, 'hell': 412, 'entir': 287, 'getvaccin': 366, 'mayb': 543, '4': 20, 'everyth': 295, 'felt': 320, 'measur': 545, 'spend': 807, 'system': 846, 'california': 135, 'glad': 370, 'arent': 72, 'stupid': 831, 'employe': 278, 'thought': 876, 'goodnight': 378, 'fine': 327, 'scienc': 753, 'critic': 211, 'covidー19': 206, 'guess': 389, 'inform': 450, 'hoax': 420, 'shit': 773, 'popul': 657, 'theyr': 867, 'receiv': 700, 'told': 885, 'guard': 388, 'advic': 39, 'dumb': 262, 'lord': 516, 'sorri': 802, 'probabl': 669, 'anyth': 64, 'read': 694, 'antimask': 62, 'light': 497, 'treat': 896, 'remov': 710, 'forc': 339, 'sick': 781, 'player': 646, 'yall': 988, 'ontario': 613, 'unmask': 914, 'resist': 717, 'mean': 544, 'moderna': 560, 'bad': 89, 'ago': 41, 'shut': 780, 'allow': 48, 'either': 273, 'proud': 677, 'return': 724, 'saturdaymotiv': 744, 'truth': 903, 'challeng': 152, 'thinkbigsundaywithmarsha': 872, 'wisdom': 965, 'kind': 475, 'fraud': 344, 'youv': 998, 'alon': 50, 'ok': 606, 'grow': 387, 'figur': 323, 'ahead': 43, 'america': 56, 'bastard': 94, 'clear': 165, 'theyv': 868, 'pull': 681, 'consid': 181, 'florida': 332, 'blue': 119, 'bar': 91, 'correct': 190, 'okay': 607, 'evid': 296, 'thousand': 877, 'push': 683, 'gather': 364, 'dead': 226, 'maskless': 536, 'shame': 770, 'holiday': 423, 'low': 521, 'transmiss': 894, 'period': 634, 'forward': 342, 'grate': 384, 'park': 623, 'sore': 801, 'appoint': 67, 'tomorrow': 886, 'mass': 540, 'kill': 474, 'beach': 97, 'civil': 162, 'refus': 705, 'carri': 145, 'miss': 559, 'join': 466, 'includ': 444, 'studi': 830, 'anyway': 65, 'nice': 590, 'reopen': 711, 'sun': 835, 'virus': 933, 'didnt': 240, 'singl': 787, 'eye': 305, 'karen': 470, 'star': 814, 'diseas': 243, 'exist': 301, 'account': 32, 'clown': 168, 'simpli': 785, 'educ': 270, 'scare': 750, 'profession': 672, 'gotten': 380, 'surpris': 843, 'lung': 522, 'damag': 219, 'planet': 644, 'democrat': 234, 'id': 435, 'retweet': 725, 'uk': 910, 'data': 223, 'research': 715, 'encourag': 279, '10': 2, 'pm': 650, 'longer': 513, 'line': 500, 'town': 892, 'idiot': 437, 'mouth': 567, 'sever': 769, 'ridicul': 726, 'protest': 675, '8': 25, 'complianc': 179, 'ignor': 438, 'proven': 679, 'themselv': 864, 'vote': 936, 'destroy': 238, 'canadian': 139, 'lie': 494, 'warn': 944, 'curv': 215, 'usa': 917, 'flatten': 330, 'exercis': 300, 'basic': 93, 'wrong': 985, 'sound': 803, 'scam': 748, 'sit': 788, 'result': 723, 'announc': 60, '15': 5, 'earli': 265, 'novaccinepassport': 599, 'liter': 504, 'small': 790, 'wake': 940, 'degre': 232, 'apart': 66, 'comment': 174, 'accord': 31, 'bedroom': 102, '0711377544': 0, 'limpingrailabow': 499, 'johnson': 464, 'uhuru': 909, 'ruto': 735, 'train': 893, 'expo': 304, 'mad': 523, 'might': 554, 'maskupindia': 539, 'ireland': 455, 'tax': 853, 'despit': 237, 'fantast': 311, 'futur': 361, 'usual': 920, 'certain': 151, 'moron': 566, 'power': 661, 'texan': 860, 'corrupt': 191, 'lift': 496, 'demand': 233, 'unless': 913, 'scientif': 754, 'efficaci': 272, 'chanc': 153, 'teach': 855, 'paid': 619, 'king': 476, 'abus': 29, 'vaccinepassport': 923, 'zero': 999, 'crap': 207, 'lose': 517, 'deserv': 235, 'exempt': 299, 'wisconsin': 964, 'insan': 451, 'bullshit': 130, 'mental': 551, 'gym': 392, 'whatev': 959, 'shouldnt': 778, 'bori': 122, 'radiostradbrok': 689, 'musicmatt': 572, 'newmusicfriday': 587, 'brain': 125, 'honjbmuturieffect': 425, 'johnsonmustgo': 465, 'china': 157, 'nonsens': 593, 'propaganda': 673, 'hashtag': 402, 'dark': 222, 'compli': 178, 'muzzl': 574, 'stick': 822, 'novaccin': 598, 'kbf': 471, 'borisjohnsonout': 123, 'enoughisenough': 285, 'endthelockdown': 282, 'justsayno': 469, 'scamdem': 749, 'sheep': 772, 'longterm': 514, 'worn': 978, 'vitamin': 935, 'takeoffthemask': 849, 'useless': 919, '379': 18, 'diaper': 239, 'realis': 697, 'boristheliar': 124, 'endlockdownnow': 281, 'ivermectinwork': 460, 'dissolveparlia': 244, 'bedwett': 103, 'knight': 478, 'freemason': 347, 'takeoffyourmask': 850, 'thor': 874, 'ragnarok': 690, 'batman': 95, 'diva': 247, 'trumpistrash': 901, 'takethelead': 851, 'thewalkingdead': 866, 'stink': 824}\n"
          ],
          "name": "stdout"
        }
      ]
    },
    {
      "cell_type": "code",
      "metadata": {
        "id": "LH0yuGGhgcQC",
        "colab": {
          "base_uri": "https://localhost:8080/"
        },
        "outputId": "12d3a542-01ae-4f59-bb88-c40f6be64c40"
      },
      "source": [
        "positive = []\n",
        "negative = []\n",
        "\n",
        "X, y = df['tokens'].to_numpy(), df['attitude'].to_numpy()\n",
        "\n",
        "for i in range(len(X)):\n",
        "  if y[i] == 1:\n",
        "    positive.append(X[i])\n",
        "  else:\n",
        "    negative.append(X[i])\n",
        "\n",
        "count_vec_postop = CountVectorizer(\n",
        "    analyzer='word',\n",
        "    tokenizer= override_fcn,\n",
        "    preprocessor= override_fcn,\n",
        "    token_pattern= None,\n",
        "    max_features = 5500)\n",
        "\n",
        "# Remember this output is a Scipy Sparse Array\n",
        "count_vec_postop.fit_transform(positive)\n",
        "\n",
        "# Print the names of each of the features (1000 total))\n",
        "token_freq_p = count_vec_postop.vocabulary_\n",
        "\n",
        "count_vec_negtop = CountVectorizer(\n",
        "    analyzer='word',\n",
        "    tokenizer= override_fcn,\n",
        "    preprocessor= override_fcn,\n",
        "    token_pattern= None,\n",
        "    max_features = 5500)\n",
        "\n",
        "# Remember this output is a Scipy Sparse Array\n",
        "count_vec_negtop.fit_transform(negative)\n",
        "\n",
        "# Print the names of each of the features (1000 total))\n",
        "token_freq_n = count_vec_negtop.vocabulary_\n",
        "\n",
        "\n",
        "sort_orders_p = sorted(token_freq_p.items(), key=lambda x: x[1], reverse=True)\n",
        "sort_orders_n = sorted(token_freq_n.items(), key=lambda x: x[1], reverse=True)\n",
        "\n",
        "p = sorted(token_freq_p, key=token_freq_p.get, reverse=True)\n",
        "n = sorted(token_freq_n, key=token_freq_n.get, reverse=True)\n",
        "\n",
        "p_result = []\n",
        "n_result = []\n",
        "\n",
        "for i in p[:20]:\n",
        "  if i not in n[:20]:\n",
        "    p_result.append(i)\n",
        "for i in n[:20]:\n",
        "  if i not in p[:20]:\n",
        "    n_result.append(i)\n",
        "\n",
        "print(p_result)\n",
        "print(n_result)\n",
        "\n",
        "\n",
        "print(\"Top 20 words for 1: \", p[:20])\n",
        "print(\"Top 20 words for -1: \", n[:20])"
      ],
      "execution_count": null,
      "outputs": [
        {
          "output_type": "stream",
          "text": [
            "['𝚝𝚛𝚢', '𝚝𝚘', '𝚝𝚑𝚊𝚝', '𝚝𝚊𝚔𝚎', '𝚜𝚞𝚗𝚗𝚢', '𝚜𝚑𝚘𝚞𝚕𝚍', '𝚘𝚏', '𝚖𝚘𝚖𝚎', '𝚒𝚝', '𝚒𝚜', '𝚎𝚟𝚎𝚛𝚢', '𝚎𝚗𝚓𝚘𝚢', '𝚍𝚊𝚢', '𝚌𝚊𝚛𝚎𝚏𝚞𝚕', '𝚌𝚊𝚛𝚎', '𝚋𝚎', '𝚊', '𝙿𝚕𝚎𝚊𝚜𝚎', '𝙷𝚘𝚠𝚎𝚟𝚎𝚛', '𝙱𝚎𝚜𝚒𝚍𝚎𝚜']\n",
            "['𝗪𝗘𝗔𝗥', '𝗠𝗔𝗦𝗞', '𝗙𝗨𝗖𝗞𝗜𝗡𝗚', '𝗔', 'zon', 'zombi', 'zi', 'zero', 'z', 'yvonn', 'yup', 'yung', 'yucki', 'yr', 'ypur', 'yp', 'youv', 'youtub', 'youthat', 'youth']\n",
            "Top 20 words for 1:  ['𝚝𝚛𝚢', '𝚝𝚘', '𝚝𝚑𝚊𝚝', '𝚝𝚊𝚔𝚎', '𝚜𝚞𝚗𝚗𝚢', '𝚜𝚑𝚘𝚞𝚕𝚍', '𝚘𝚏', '𝚖𝚘𝚖𝚎', '𝚒𝚝', '𝚒𝚜', '𝚎𝚟𝚎𝚛𝚢', '𝚎𝚗𝚓𝚘𝚢', '𝚍𝚊𝚢', '𝚌𝚊𝚛𝚎𝚏𝚞𝚕', '𝚌𝚊𝚛𝚎', '𝚋𝚎', '𝚊', '𝙿𝚕𝚎𝚊𝚜𝚎', '𝙷𝚘𝚠𝚎𝚟𝚎𝚛', '𝙱𝚎𝚜𝚒𝚍𝚎𝚜']\n",
            "Top 20 words for -1:  ['𝗪𝗘𝗔𝗥', '𝗠𝗔𝗦𝗞', '𝗙𝗨𝗖𝗞𝗜𝗡𝗚', '𝗔', 'zon', 'zombi', 'zi', 'zero', 'z', 'yvonn', 'yup', 'yung', 'yucki', 'yr', 'ypur', 'yp', 'youv', 'youtub', 'youthat', 'youth']\n"
          ],
          "name": "stdout"
        }
      ]
    },
    {
      "cell_type": "markdown",
      "metadata": {
        "id": "kzoxFDqfSLq1"
      },
      "source": [
        "8) TFIDF"
      ]
    },
    {
      "cell_type": "code",
      "metadata": {
        "id": "q3IqXZXJSOUr"
      },
      "source": [
        "tfidf = TfidfTransformer()\n",
        "\n",
        "tfs = tfidf.fit_transform(counts)\n",
        "\n",
        "# Let's use the TFIDF counts for modelling\n",
        "X = tfs.toarray()\n",
        "\n",
        "# Split the data into training and test sets\n",
        "X_train, X_test, y_train, y_test = train_test_split(X, y, test_size = 0.2, random_state = 42)"
      ],
      "execution_count": null,
      "outputs": []
    },
    {
      "cell_type": "markdown",
      "metadata": {
        "id": "RWLzWlOwSWAC"
      },
      "source": [
        "9) Naive Bayes Formula"
      ]
    },
    {
      "cell_type": "code",
      "metadata": {
        "id": "t2AeWvhTScpf",
        "colab": {
          "base_uri": "https://localhost:8080/",
          "height": 313
        },
        "outputId": "08636b54-db5b-4eac-8108-a44d3064ce2b"
      },
      "source": [
        "from sklearn.naive_bayes import MultinomialNB\n",
        "from sklearn.metrics import accuracy_score, roc_curve\n",
        "import matplotlib.pyplot as plt\n",
        "\n",
        "# Let's fit the Naive Bayes model to our training data\n",
        "nb = MultinomialNB()\n",
        "# Fit model to training data\n",
        "nb.fit(X_train, y_train)\n",
        "# Predict on test data\n",
        "y_preds = nb.predict(X_test)\n",
        "\n",
        "print('Test accuracy with simple Naive Bayes:',accuracy_score(y_test,y_preds))\n",
        "# We get a very good accuracy, despite class imbalance (recall 87% were Ham)\n",
        "# # Plot the ROC curve \n",
        "fpr, tpr, thresholds = roc_curve(y_test, y_preds, pos_label = 1)\n",
        "\n",
        "plt.plot(fpr,tpr)\n",
        "plt.xlabel('False Positive Rate')\n",
        "plt.ylabel('True Positive Rate')\n",
        "plt.title('Receiver Operator Characteristic (ROC) Curve')\n",
        "plt.show()"
      ],
      "execution_count": null,
      "outputs": [
        {
          "output_type": "stream",
          "text": [
            "Test accuracy with simple Naive Bayes: 0.7791754018169113\n"
          ],
          "name": "stdout"
        },
        {
          "output_type": "display_data",
          "data": {
            "image/png": "[encoded data removed]",
            "text/plain": [
              "<Figure size 432x288 with 1 Axes>"
            ]
          },
          "metadata": {
            "tags": [],
            "needs_background": "light"
          }
        }
      ]
    },
    {
      "cell_type": "markdown",
      "metadata": {
        "id": "IIDOWakBtJqS"
      },
      "source": [
        "Country Plot"
      ]
    },
    {
      "cell_type": "code",
      "metadata": {
        "id": "Cn52nNFX3MFy"
      },
      "source": [
        "def coordinate(search_words, num_items, country):\n",
        "  search_with_filter = search_words + \" -filter:retweets\"\n",
        "  date_since = \"2020-01-01\"\n",
        "  searchCountry = country\n",
        "  places = api.geo_search(query=searchCountry, granularity=\"country\")\n",
        "  place_id = places[0].id\n",
        "  mask = tw.Cursor(api.search,\n",
        "                  q='{} place:{}'.format(search_with_filter, place_id),\n",
        "                  lang=\"en\",\n",
        "                  since=date_since,\n",
        "                  result_type = 'recent').items(num_items)\n",
        "  l_coordinates = []\n",
        "  for tweet in mask:\n",
        "    if tweet.coordinates is not None:\n",
        "      l_coordinates1.append(tweet.coordinates['coordinates'])\n",
        "  return l_coordinates"
      ],
      "execution_count": null,
      "outputs": []
    },
    {
      "cell_type": "code",
      "metadata": {
        "id": "QhMaXnsq3P-o"
      },
      "source": [
        "def countrycode(search_words, num_items):\n",
        "  search_with_filter = search_words + \" -filter:retweets\"\n",
        "  date_since = \"2020-01-01\"\n",
        "  mask = tw.Cursor(api.search,\n",
        "                  q=search_with_filter,\n",
        "                  lang=\"en\",\n",
        "                  since=date_since,\n",
        "                  result_type = 'recent').items(num_items)\n",
        "  l_countrycode = []\n",
        "  for tweet in mask:\n",
        "    if tweet.place is not None:\n",
        "      l_countrycode.append(tweet.place.country_code)\n",
        "  return l_countrycode"
      ],
      "execution_count": null,
      "outputs": []
    },
    {
      "cell_type": "markdown",
      "metadata": {
        "id": "u50az64f3fIT"
      },
      "source": [
        "Masks\n"
      ]
    },
    {
      "cell_type": "markdown",
      "metadata": {
        "id": "nzj19TsX3jve"
      },
      "source": [
        "1. Positive\n"
      ]
    },
    {
      "cell_type": "code",
      "metadata": {
        "id": "LczIdX5n3d7D",
        "colab": {
          "base_uri": "https://localhost:8080/",
          "height": 282
        },
        "outputId": "97523ec3-143c-4981-b05a-14c914caa0de"
      },
      "source": [
        "import matplotlib.pyplot as plt\n",
        "mask1 = countrycode(search_words='#maskon', num_items=1000)\n",
        "mask2 = countrycode(search_words='#wearmask', num_items=1000)\n",
        "mask3 = countrycode(search_words='#wearamask', num_items=4000)\n",
        "mask =  mask1 + mask2 + mask3\n",
        "\n",
        "maskdf = pd.DataFrame(mask, columns=['count'])\n",
        "maskdf = maskdf['count'].value_counts().to_frame().reset_index()"
      ],
      "execution_count": null,
      "outputs": [
        {
          "output_type": "execute_result",
          "data": {
            "text/plain": [
              "<BarContainer object of 30 artists>"
            ]
          },
          "metadata": {
            "tags": []
          },
          "execution_count": 10
        },
        {
          "output_type": "display_data",
          "data": {
            "image/png": "[encoded data removed]",
            "text/plain": [
              "<Figure size 432x288 with 1 Axes>"
            ]
          },
          "metadata": {
            "tags": [],
            "needs_background": "light"
          }
        }
      ]
    },
    {
      "cell_type": "markdown",
      "metadata": {
        "id": "PQhVCIn75Frv"
      },
      "source": [
        "2. Negative"
      ]
    },
    {
      "cell_type": "code",
      "metadata": {
        "id": "qReblJyi5HrX",
        "colab": {
          "base_uri": "https://localhost:8080/",
          "height": 282
        },
        "outputId": "0e7e8e25-90ff-4af8-920e-134f08c541ec"
      },
      "source": [
        "import matplotlib.pyplot as plt\n",
        "\n",
        "n_mask = countrycode(search_words='#maskfree', num_items=1000) + countrycode(search_words='#nomasks', num_items=1000) + countrycode(search_words='#takeoffyourmask', num_items=1000)\n",
        "\n",
        "n_maskdf = pd.DataFrame(n_mask, columns=['count'])\n",
        "n_maskdf = n_maskdf['count'].value_counts().to_frame().reset_index()"
      ],
      "execution_count": null,
      "outputs": [
        {
          "output_type": "execute_result",
          "data": {
            "text/plain": [
              "<BarContainer object of 8 artists>"
            ]
          },
          "metadata": {
            "tags": []
          },
          "execution_count": 7
        },
        {
          "output_type": "display_data",
          "data": {
            "image/png": "[encoded data removed]",
            "text/plain": [
              "<Figure size 432x288 with 1 Axes>"
            ]
          },
          "metadata": {
            "tags": [],
            "needs_background": "light"
          }
        }
      ]
    },
    {
      "cell_type": "code",
      "metadata": {
        "colab": {
          "base_uri": "https://localhost:8080/",
          "height": 248
        },
        "id": "QaxAC-awSFCa",
        "outputId": "98096782-6d40-4b6d-ca42-44e3e33c0af5"
      },
      "source": [
        "sum = len(n_mask) + len(mask)\n",
        "n_maskdf['proportion'] = n_maskdf['count']/sum\n",
        "maskdf['proportion'] = maskdf['count']/len(n_mask)\n",
        "color1 = ['#581845', '#900C3F', '#C70039', '#FF5733', '#FFA98B', '#FFDED3', '#FFC300', '#F7F659', '#FFFFA4', '#DAF7A6']\n",
        "plt.pie(n_maskdf['proportion'], colors=color1)\n",
        "plt.legend(n_maskdf['index'])\n",
        "plt.show() "
      ],
      "execution_count": null,
      "outputs": [
        {
          "output_type": "display_data",
          "data": {
            "image/png": "[encoded data removed]",
            "text/plain": [
              "<Figure size 432x288 with 1 Axes>"
            ]
          },
          "metadata": {
            "tags": []
          }
        }
      ]
    },
    {
      "cell_type": "code",
      "metadata": {
        "colab": {
          "base_uri": "https://localhost:8080/",
          "height": 248
        },
        "id": "cnIPnqo3cWE8",
        "outputId": "025fdbbe-d712-4e8a-8b28-2856979ca529"
      },
      "source": [
        "sum = len(n_mask) + len(mask)\n",
        "maskdf['proportion'] = maskdf['count']/sum\n",
        "color2 = ['#DAF7A6','#B4F15F', '#8DEC0A', '#D1E445', '#DFEA88', '#EFF9A6', '#F1ED0D', '#F9E56A', '#F0D643', '#F6D20A', \n",
        "          '#FFC300', '#F6A00A', '#F7BB7A', '#F19E47', '#F6830A', '#F7AF7A', '#F79C59', '#F07820', '#F96C04', '#F59769',\n",
        "          '#F58269', '#E16448', '#E03B16', '#F0350B', '#F69D93', '#D76E62', '#BC3E2F', '#CB1D09', '#900C3F', '#581845']\n",
        "plt.pie(maskdf['proportion'], colors=color2)\n",
        "plt.legend(n_maskdf['index'])\n",
        "plt.show() "
      ],
      "execution_count": null,
      "outputs": [
        {
          "output_type": "display_data",
          "data": {
            "image/png": "[encoded data removed]",
            "text/plain": [
              "<Figure size 432x288 with 1 Axes>"
            ]
          },
          "metadata": {
            "tags": []
          }
        }
      ]
    },
    {
      "cell_type": "markdown",
      "metadata": {
        "id": "KKhFe7Etninp"
      },
      "source": [
        "Research 1: Prediction on someone's attitude about wearing a mask."
      ]
    },
    {
      "cell_type": "code",
      "metadata": {
        "id": "sVxy34UCFI1-"
      },
      "source": [
        "def conclusion_maker(lst):\n",
        "  if sum(lst) == 0:\n",
        "    return \"This media has neautral attitude\"\n",
        "  if sum(lst) < 0:\n",
        "    return \"This media has negative attitude\"\n",
        "  else:\n",
        "    return \"This media has positive attitude\""
      ],
      "execution_count": null,
      "outputs": []
    },
    {
      "cell_type": "code",
      "metadata": {
        "id": "CGgrWjmZ--hj"
      },
      "source": [
        "def predict_attitude(new_df, training_df):\n",
        "  new_df[\"tokens\"] = tokenize(new_df)\n",
        "  new_df[\"tokens\"] = no_links(new_df)\n",
        "  new_df[\"tokens\"] = no_at(new_df)\n",
        "  new_df[\"tokens\"] = remove_punct(new_df)\n",
        "  new_df[\"tokens\"] = convert_lower(new_df)\n",
        "  new_df[\"tokens\"] = stem(new_df)\n",
        "  new_df[\"tokens\"] = remove_stopwords(new_df)\n",
        "  new_df[\"tokens\"] = lemmatize(new_df)\n",
        "\n",
        "  new_X = new_df['tokens'].to_numpy()\n",
        "  # Count Vectorizer\n",
        "  count_vec_new = CountVectorizer(\n",
        "      analyzer='word',\n",
        "      tokenizer= override_fcn,\n",
        "      preprocessor= override_fcn,\n",
        "      token_pattern= None,\n",
        "      max_features = 5500)\n",
        "\n",
        "  X, y = training_df['tokens'].to_numpy(), training_df['attitude'].to_numpy()\n",
        "  full_X_new = np.concatenate([X, new_X])\n",
        "\n",
        "  counts_new = count_vec_new.fit_transform(full_X_new)\n",
        "\n",
        "  tfidf_new = TfidfTransformer()\n",
        "\n",
        "  tfs_new = tfidf_new.fit_transform(counts_new)\n",
        "\n",
        "  new_X = tfs_new.toarray()\n",
        "\n",
        "  X, X_test = new_X[:np.size(X), :], new_X[np.size(X):,:]\n",
        "\n",
        "  nb_new = MultinomialNB()\n",
        "  nb_new.fit(X, y)\n",
        "\n",
        "  pred_new = nb_new.predict(X_test)\n",
        "  return pred_new"
      ],
      "execution_count": null,
      "outputs": []
    },
    {
      "cell_type": "code",
      "metadata": {
        "colab": {
          "base_uri": "https://localhost:8080/",
          "height": 169
        },
        "id": "PO5VDt9T_Gx3",
        "outputId": "bc7a17a9-dbbb-4287-a431-a88c309db3b9"
      },
      "source": [
        "search_with_filter = \"mask\" +\" from:@CDCgov\"\n",
        "date_since = \"2020-01-01\"\n",
        "word = tw.Cursor(api.search,\n",
        "                        q=search_with_filter,\n",
        "                        lang=\"en\",\n",
        "                        since=date_since,\n",
        "                        result_type = 'recent').items(1000)\n",
        "a = [tweet.text for tweet in word]\n",
        "df_CDC = pd.DataFrame(a, columns = ['tweet'])\n",
        "df_CDC"
      ],
      "execution_count": null,
      "outputs": [
        {
          "output_type": "execute_result",
          "data": {
            "text/html": [
              "<div>\n",
              "<style scoped>\n",
              "    .dataframe tbody tr th:only-of-type {\n",
              "        vertical-align: middle;\n",
              "    }\n",
              "\n",
              "    .dataframe tbody tr th {\n",
              "        vertical-align: top;\n",
              "    }\n",
              "\n",
              "    .dataframe thead th {\n",
              "        text-align: right;\n",
              "    }\n",
              "</style>\n",
              "<table border=\"1\" class=\"dataframe\">\n",
              "  <thead>\n",
              "    <tr style=\"text-align: right;\">\n",
              "      <th></th>\n",
              "      <th>tweet</th>\n",
              "    </tr>\n",
              "  </thead>\n",
              "  <tbody>\n",
              "    <tr>\n",
              "      <th>0</th>\n",
              "      <td>#WearAMask 😷 in public to help #SlowTheSpread ...</td>\n",
              "    </tr>\n",
              "    <tr>\n",
              "      <th>1</th>\n",
              "      <td>Help protect adult day service center particip...</td>\n",
              "    </tr>\n",
              "    <tr>\n",
              "      <th>2</th>\n",
              "      <td>Wash your cloth mask daily, or more often if i...</td>\n",
              "    </tr>\n",
              "    <tr>\n",
              "      <th>3</th>\n",
              "      <td>#WearAMask when you are taking care of someone...</td>\n",
              "    </tr>\n",
              "  </tbody>\n",
              "</table>\n",
              "</div>"
            ],
            "text/plain": [
              "                                               tweet\n",
              "0  #WearAMask 😷 in public to help #SlowTheSpread ...\n",
              "1  Help protect adult day service center particip...\n",
              "2  Wash your cloth mask daily, or more often if i...\n",
              "3  #WearAMask when you are taking care of someone..."
            ]
          },
          "metadata": {
            "tags": []
          },
          "execution_count": 290
        }
      ]
    },
    {
      "cell_type": "code",
      "metadata": {
        "colab": {
          "base_uri": "https://localhost:8080/"
        },
        "id": "TLHU5bGZ_JX8",
        "outputId": "72eaed3e-568c-4794-ebb2-b2d2adabe5c0"
      },
      "source": [
        "print(conclusion_maker(predict_attitude(df_CDC, df)))\n"
      ],
      "execution_count": null,
      "outputs": [
        {
          "output_type": "stream",
          "text": [
            "This media has positive attitude\n"
          ],
          "name": "stdout"
        }
      ]
    },
    {
      "cell_type": "code",
      "metadata": {
        "colab": {
          "base_uri": "https://localhost:8080/",
          "height": 199
        },
        "id": "XeKBeQqGniPy",
        "outputId": "8d8a0233-772b-4428-cd12-bcebfac2d91a"
      },
      "source": [
        "search_with_filter = \"mask\" +\" from:@ABC\"\n",
        "date_since = \"2020-01-01\"\n",
        "word = tw.Cursor(api.search,\n",
        "                        q=search_with_filter,\n",
        "                        lang=\"en\",\n",
        "                        since=date_since,\n",
        "                        result_type = 'recent').items(1000)\n",
        "a = [tweet.text for tweet in word]\n",
        "df_ABC = pd.DataFrame(a, columns = ['tweet'])\n",
        "df_ABC\n"
      ],
      "execution_count": null,
      "outputs": [
        {
          "output_type": "execute_result",
          "data": {
            "text/html": [
              "<div>\n",
              "<style scoped>\n",
              "    .dataframe tbody tr th:only-of-type {\n",
              "        vertical-align: middle;\n",
              "    }\n",
              "\n",
              "    .dataframe tbody tr th {\n",
              "        vertical-align: top;\n",
              "    }\n",
              "\n",
              "    .dataframe thead th {\n",
              "        text-align: right;\n",
              "    }\n",
              "</style>\n",
              "<table border=\"1\" class=\"dataframe\">\n",
              "  <thead>\n",
              "    <tr style=\"text-align: right;\">\n",
              "      <th></th>\n",
              "      <th>tweet</th>\n",
              "    </tr>\n",
              "  </thead>\n",
              "  <tbody>\n",
              "    <tr>\n",
              "      <th>0</th>\n",
              "      <td>Fully vaccinated individuals can resume low-ri...</td>\n",
              "    </tr>\n",
              "    <tr>\n",
              "      <th>1</th>\n",
              "      <td>Fully vaccinated individuals can resume low-ri...</td>\n",
              "    </tr>\n",
              "    <tr>\n",
              "      <th>2</th>\n",
              "      <td>BREAKING: Fully vaccinated individuals can res...</td>\n",
              "    </tr>\n",
              "    <tr>\n",
              "      <th>3</th>\n",
              "      <td>RT @ABCNewsLive: \"We need to keep taking the m...</td>\n",
              "    </tr>\n",
              "    <tr>\n",
              "      <th>4</th>\n",
              "      <td>Wisconsin Supreme Court strikes down Gov. Tony...</td>\n",
              "    </tr>\n",
              "  </tbody>\n",
              "</table>\n",
              "</div>"
            ],
            "text/plain": [
              "                                               tweet\n",
              "0  Fully vaccinated individuals can resume low-ri...\n",
              "1  Fully vaccinated individuals can resume low-ri...\n",
              "2  BREAKING: Fully vaccinated individuals can res...\n",
              "3  RT @ABCNewsLive: \"We need to keep taking the m...\n",
              "4  Wisconsin Supreme Court strikes down Gov. Tony..."
            ]
          },
          "metadata": {
            "tags": []
          },
          "execution_count": 292
        }
      ]
    },
    {
      "cell_type": "code",
      "metadata": {
        "colab": {
          "base_uri": "https://localhost:8080/"
        },
        "id": "fnDvnxrsDuOj",
        "outputId": "f4020a55-4560-4f42-fb8d-f8bad123865d"
      },
      "source": [
        "print(conclusion_maker(predict_attitude(df_ABC, df)))"
      ],
      "execution_count": null,
      "outputs": [
        {
          "output_type": "stream",
          "text": [
            "This media has positive attitude\n"
          ],
          "name": "stdout"
        }
      ]
    },
    {
      "cell_type": "code",
      "metadata": {
        "colab": {
          "base_uri": "https://localhost:8080/",
          "height": 350
        },
        "id": "yD7km5zxDxFW",
        "outputId": "c7049349-9d09-48a6-9f25-fbb1786b7aa1"
      },
      "source": [
        "search_with_filter = \"mask\" +\" from:@NBCNews\"\n",
        "date_since = \"2020-01-01\"\n",
        "word = tw.Cursor(api.search,\n",
        "                        q=search_with_filter,\n",
        "                        lang=\"en\",\n",
        "                        since=date_since,\n",
        "                        result_type = 'recent').items(1000)\n",
        "a = [tweet.text for tweet in word]\n",
        "df_NBC = pd.DataFrame(a, columns = ['tweet'])\n",
        "df_NBC"
      ],
      "execution_count": null,
      "outputs": [
        {
          "output_type": "execute_result",
          "data": {
            "text/html": [
              "<div>\n",
              "<style scoped>\n",
              "    .dataframe tbody tr th:only-of-type {\n",
              "        vertical-align: middle;\n",
              "    }\n",
              "\n",
              "    .dataframe tbody tr th {\n",
              "        vertical-align: top;\n",
              "    }\n",
              "\n",
              "    .dataframe thead th {\n",
              "        text-align: right;\n",
              "    }\n",
              "</style>\n",
              "<table border=\"1\" class=\"dataframe\">\n",
              "  <thead>\n",
              "    <tr style=\"text-align: right;\">\n",
              "      <th></th>\n",
              "      <th>tweet</th>\n",
              "    </tr>\n",
              "  </thead>\n",
              "  <tbody>\n",
              "    <tr>\n",
              "      <th>0</th>\n",
              "      <td>CDC Director Walensky warns of “impending doom...</td>\n",
              "    </tr>\n",
              "    <tr>\n",
              "      <th>1</th>\n",
              "      <td>Sarah Palin urges mask use after revealing Cov...</td>\n",
              "    </tr>\n",
              "    <tr>\n",
              "      <th>2</th>\n",
              "      <td>Sarah Palin urges mask use after revealing Cov...</td>\n",
              "    </tr>\n",
              "    <tr>\n",
              "      <th>3</th>\n",
              "      <td>Sarah Palin urges mask use after revealing Cov...</td>\n",
              "    </tr>\n",
              "    <tr>\n",
              "      <th>4</th>\n",
              "      <td>Sarah Palin urges mask use after revealing Cov...</td>\n",
              "    </tr>\n",
              "    <tr>\n",
              "      <th>5</th>\n",
              "      <td>Wisconsin Supreme Court strikes down governor'...</td>\n",
              "    </tr>\n",
              "    <tr>\n",
              "      <th>6</th>\n",
              "      <td>RT @NBCNewsGraphics: Several states, including...</td>\n",
              "    </tr>\n",
              "    <tr>\n",
              "      <th>7</th>\n",
              "      <td>RT @NBCNewsNow: \"There's millions and millions...</td>\n",
              "    </tr>\n",
              "    <tr>\n",
              "      <th>8</th>\n",
              "      <td>Michigan's hot spot for new cases has been the...</td>\n",
              "    </tr>\n",
              "    <tr>\n",
              "      <th>9</th>\n",
              "      <td>NEW: CDC Director Walensky warns of \"impending...</td>\n",
              "    </tr>\n",
              "  </tbody>\n",
              "</table>\n",
              "</div>"
            ],
            "text/plain": [
              "                                               tweet\n",
              "0  CDC Director Walensky warns of “impending doom...\n",
              "1  Sarah Palin urges mask use after revealing Cov...\n",
              "2  Sarah Palin urges mask use after revealing Cov...\n",
              "3  Sarah Palin urges mask use after revealing Cov...\n",
              "4  Sarah Palin urges mask use after revealing Cov...\n",
              "5  Wisconsin Supreme Court strikes down governor'...\n",
              "6  RT @NBCNewsGraphics: Several states, including...\n",
              "7  RT @NBCNewsNow: \"There's millions and millions...\n",
              "8  Michigan's hot spot for new cases has been the...\n",
              "9  NEW: CDC Director Walensky warns of \"impending..."
            ]
          },
          "metadata": {
            "tags": []
          },
          "execution_count": 133
        }
      ]
    },
    {
      "cell_type": "code",
      "metadata": {
        "colab": {
          "base_uri": "https://localhost:8080/"
        },
        "id": "SaJ5zn5PD9p4",
        "outputId": "5fad96a1-298f-4963-e863-47a4ce0dfa2e"
      },
      "source": [
        "print(conclusion_maker(predict_attitude(df_NBC, df)))"
      ],
      "execution_count": null,
      "outputs": [
        {
          "output_type": "stream",
          "text": [
            "This media has negative attitude\n"
          ],
          "name": "stdout"
        }
      ]
    },
    {
      "cell_type": "code",
      "metadata": {
        "colab": {
          "base_uri": "https://localhost:8080/",
          "height": 139
        },
        "id": "CUa33evKEDZr",
        "outputId": "9ee66420-85ce-4561-b607-80c3456c2769"
      },
      "source": [
        "search_with_filter = \"mask\" +\" from:@CNN\"\n",
        "date_since = \"2020-01-01\"\n",
        "word = tw.Cursor(api.search,\n",
        "                        q=search_with_filter,\n",
        "                        lang=\"en\",\n",
        "                        since=date_since,\n",
        "                        result_type = 'recent').items(1000)\n",
        "a = [tweet.text for tweet in word]\n",
        "df_CNN = pd.DataFrame(a, columns = ['tweet'])\n",
        "df_CNN"
      ],
      "execution_count": null,
      "outputs": [
        {
          "output_type": "execute_result",
          "data": {
            "text/html": [
              "<div>\n",
              "<style scoped>\n",
              "    .dataframe tbody tr th:only-of-type {\n",
              "        vertical-align: middle;\n",
              "    }\n",
              "\n",
              "    .dataframe tbody tr th {\n",
              "        vertical-align: top;\n",
              "    }\n",
              "\n",
              "    .dataframe thead th {\n",
              "        text-align: right;\n",
              "    }\n",
              "</style>\n",
              "<table border=\"1\" class=\"dataframe\">\n",
              "  <thead>\n",
              "    <tr style=\"text-align: right;\">\n",
              "      <th></th>\n",
              "      <th>tweet</th>\n",
              "    </tr>\n",
              "  </thead>\n",
              "  <tbody>\n",
              "    <tr>\n",
              "      <th>0</th>\n",
              "      <td>JUST IN: The CDC says that as long as coronavi...</td>\n",
              "    </tr>\n",
              "    <tr>\n",
              "      <th>1</th>\n",
              "      <td>Biden's infrastructure push kicked off in earn...</td>\n",
              "    </tr>\n",
              "    <tr>\n",
              "      <th>2</th>\n",
              "      <td>Alabama’s Gov. Kay Ivey will move ahead with h...</td>\n",
              "    </tr>\n",
              "  </tbody>\n",
              "</table>\n",
              "</div>"
            ],
            "text/plain": [
              "                                               tweet\n",
              "0  JUST IN: The CDC says that as long as coronavi...\n",
              "1  Biden's infrastructure push kicked off in earn...\n",
              "2  Alabama’s Gov. Kay Ivey will move ahead with h..."
            ]
          },
          "metadata": {
            "tags": []
          },
          "execution_count": 135
        }
      ]
    },
    {
      "cell_type": "code",
      "metadata": {
        "colab": {
          "base_uri": "https://localhost:8080/"
        },
        "id": "oLwusY4lEI6w",
        "outputId": "8aeb0e60-eecf-455e-b184-e7799c879ce7"
      },
      "source": [
        "print(conclusion_maker(predict_attitude(df_CNN, df)))"
      ],
      "execution_count": null,
      "outputs": [
        {
          "output_type": "stream",
          "text": [
            "This media has negative attitude\n"
          ],
          "name": "stdout"
        }
      ]
    },
    {
      "cell_type": "markdown",
      "metadata": {
        "id": "u_wtJIasElaG"
      },
      "source": [
        "Test Medias' attitudes on Vaccines"
      ]
    },
    {
      "cell_type": "code",
      "metadata": {
        "id": "0qs08Q0hE8I-"
      },
      "source": [
        "search_with_filter = \"vaccine\" +\" from:@ABC\"\n",
        "date_since = \"2020-01-01\"\n",
        "word = tw.Cursor(api.search,\n",
        "                        q=search_with_filter,\n",
        "                        lang=\"en\",\n",
        "                        since=date_since,\n",
        "                        result_type = 'recent').items(1000)\n",
        "a = [tweet.text for tweet in word]\n",
        "df_ABCv = pd.DataFrame(a, columns = ['tweet'])"
      ],
      "execution_count": null,
      "outputs": []
    },
    {
      "cell_type": "code",
      "metadata": {
        "colab": {
          "base_uri": "https://localhost:8080/"
        },
        "id": "-7v16a2PFA8m",
        "outputId": "e731345d-8f5a-481f-f564-f8fed95bd89e"
      },
      "source": [
        "print(conclusion_maker(predict_attitude(df_ABCv, df3)))"
      ],
      "execution_count": null,
      "outputs": [
        {
          "output_type": "stream",
          "text": [
            "This media has positive attitude\n"
          ],
          "name": "stdout"
        }
      ]
    },
    {
      "cell_type": "code",
      "metadata": {
        "id": "904QNh8UFFxp"
      },
      "source": [
        "search_with_filter = \"vaccine\" +\" from:@NBCNews\"\n",
        "date_since = \"2020-01-01\"\n",
        "word = tw.Cursor(api.search,\n",
        "                        q=search_with_filter,\n",
        "                        lang=\"en\",\n",
        "                        since=date_since,\n",
        "                        result_type = 'recent').items(1000)\n",
        "a = [tweet.text for tweet in word]\n",
        "df_NBCv = pd.DataFrame(a, columns = ['tweet'])"
      ],
      "execution_count": null,
      "outputs": []
    },
    {
      "cell_type": "code",
      "metadata": {
        "colab": {
          "base_uri": "https://localhost:8080/"
        },
        "id": "waKAFX9FGMQc",
        "outputId": "cc386f66-add1-454f-cae5-9dc61811200f"
      },
      "source": [
        "print(conclusion_maker(predict_attitude(df_NBCv, df3)))"
      ],
      "execution_count": null,
      "outputs": [
        {
          "output_type": "stream",
          "text": [
            "This media has positive attitude\n"
          ],
          "name": "stdout"
        }
      ]
    },
    {
      "cell_type": "code",
      "metadata": {
        "id": "mitvnYo6GPQh"
      },
      "source": [
        "search_with_filter = \"vaccine\" +\" from:@CNN\"\n",
        "date_since = \"2020-01-01\"\n",
        "word = tw.Cursor(api.search,\n",
        "                        q=search_with_filter,\n",
        "                        lang=\"en\",\n",
        "                        since=date_since,\n",
        "                        result_type = 'recent').items(1000)\n",
        "a = [tweet.text for tweet in word]\n",
        "df_CNNv = pd.DataFrame(a, columns = ['tweet'])"
      ],
      "execution_count": null,
      "outputs": []
    },
    {
      "cell_type": "code",
      "metadata": {
        "colab": {
          "base_uri": "https://localhost:8080/"
        },
        "id": "yfEy0_wKGTLy",
        "outputId": "38a9bd7d-25e0-419d-a4d6-878909bee71a"
      },
      "source": [
        "print(conclusion_maker(predict_attitude(df_CNNv, df3)))"
      ],
      "execution_count": null,
      "outputs": [
        {
          "output_type": "stream",
          "text": [
            "This media has positive attitude\n"
          ],
          "name": "stdout"
        }
      ]
    },
    {
      "cell_type": "markdown",
      "metadata": {
        "id": "fr8ae6_xk8r9"
      },
      "source": [
        "Research Question 2: Find tweets associated with masks, predict people's attitude using our model and to see how does the proportion of people who support masks change over time"
      ]
    },
    {
      "cell_type": "code",
      "metadata": {
        "id": "1VAJ0TyylO_W"
      },
      "source": [
        "def create_sample(date1):\n",
        "  search_words = '(covid.*mask|mask.*covid)|(covid.*mask.*covid)'\n",
        "  search_with_filter = search_words + \" -filter:retweets\"\n",
        "  date_since = date1\n",
        "  mask = tw.Cursor(api.search,\n",
        "                        q=search_with_filter,\n",
        "                        lang=\"en\",\n",
        "                        since=date_since,\n",
        "                        result_type = 'recent').items(2000)\n",
        "  a = [tweet.text for tweet in mask]\n",
        "  return pd.DataFrame(a, columns = ['tweet'])"
      ],
      "execution_count": null,
      "outputs": []
    },
    {
      "cell_type": "code",
      "metadata": {
        "id": "Z0FV5Cw3oYR4"
      },
      "source": [
        "df2 = create_sample(\"2021-01-01\")"
      ],
      "execution_count": null,
      "outputs": []
    },
    {
      "cell_type": "code",
      "metadata": {
        "id": "nUD-fC95oGS9",
        "colab": {
          "base_uri": "https://localhost:8080/",
          "height": 409
        },
        "outputId": "8f2348c9-343f-4fa2-8b2c-0a3af5871ac3"
      },
      "source": [
        "df2"
      ],
      "execution_count": null,
      "outputs": [
        {
          "output_type": "execute_result",
          "data": {
            "text/html": [
              "<div>\n",
              "<style scoped>\n",
              "    .dataframe tbody tr th:only-of-type {\n",
              "        vertical-align: middle;\n",
              "    }\n",
              "\n",
              "    .dataframe tbody tr th {\n",
              "        vertical-align: top;\n",
              "    }\n",
              "\n",
              "    .dataframe thead th {\n",
              "        text-align: right;\n",
              "    }\n",
              "</style>\n",
              "<table border=\"1\" class=\"dataframe\">\n",
              "  <thead>\n",
              "    <tr style=\"text-align: right;\">\n",
              "      <th></th>\n",
              "      <th>tweet</th>\n",
              "    </tr>\n",
              "  </thead>\n",
              "  <tbody>\n",
              "    <tr>\n",
              "      <th>0</th>\n",
              "      <td>The fool who posed on a Australian flag mask. ...</td>\n",
              "    </tr>\n",
              "    <tr>\n",
              "      <th>1</th>\n",
              "      <td>Social Distance? Using of nose mask? Officials...</td>\n",
              "    </tr>\n",
              "    <tr>\n",
              "      <th>2</th>\n",
              "      <td>@Jasmijn53423438 @vickypallom @louslilshit @lw...</td>\n",
              "    </tr>\n",
              "    <tr>\n",
              "      <th>3</th>\n",
              "      <td>@blackkn05858615 No place in the world is norm...</td>\n",
              "    </tr>\n",
              "    <tr>\n",
              "      <th>4</th>\n",
              "      <td>@AndyBurnhamGM @KateWilton1 @Sacha_Lord @hugho...</td>\n",
              "    </tr>\n",
              "    <tr>\n",
              "      <th>...</th>\n",
              "      <td>...</td>\n",
              "    </tr>\n",
              "    <tr>\n",
              "      <th>1995</th>\n",
              "      <td>just because the covid vaccine is being releas...</td>\n",
              "    </tr>\n",
              "    <tr>\n",
              "      <th>1996</th>\n",
              "      <td>@laura_detroit @yesimblonde17 @TaylenandKatie ...</td>\n",
              "    </tr>\n",
              "    <tr>\n",
              "      <th>1997</th>\n",
              "      <td>@lululemon maybe I can show you pictures of my...</td>\n",
              "    </tr>\n",
              "    <tr>\n",
              "      <th>1998</th>\n",
              "      <td>@KVHendry @RosieDuffield1 @PCCKent It's weird ...</td>\n",
              "    </tr>\n",
              "    <tr>\n",
              "      <th>1999</th>\n",
              "      <td>@CollinCapone That mask isn’t protecting you f...</td>\n",
              "    </tr>\n",
              "  </tbody>\n",
              "</table>\n",
              "<p>2000 rows × 1 columns</p>\n",
              "</div>"
            ],
            "text/plain": [
              "                                                  tweet\n",
              "0     The fool who posed on a Australian flag mask. ...\n",
              "1     Social Distance? Using of nose mask? Officials...\n",
              "2     @Jasmijn53423438 @vickypallom @louslilshit @lw...\n",
              "3     @blackkn05858615 No place in the world is norm...\n",
              "4     @AndyBurnhamGM @KateWilton1 @Sacha_Lord @hugho...\n",
              "...                                                 ...\n",
              "1995  just because the covid vaccine is being releas...\n",
              "1996  @laura_detroit @yesimblonde17 @TaylenandKatie ...\n",
              "1997  @lululemon maybe I can show you pictures of my...\n",
              "1998  @KVHendry @RosieDuffield1 @PCCKent It's weird ...\n",
              "1999  @CollinCapone That mask isn’t protecting you f...\n",
              "\n",
              "[2000 rows x 1 columns]"
            ]
          },
          "metadata": {
            "tags": []
          },
          "execution_count": 164
        }
      ]
    },
    {
      "cell_type": "code",
      "metadata": {
        "id": "aLxohqNupUOC",
        "colab": {
          "base_uri": "https://localhost:8080/",
          "height": 409
        },
        "outputId": "47e458f3-c7c5-499d-ef00-1e256c438f57"
      },
      "source": [
        "df2[\"tokens\"] = tokenize(df2)\n",
        "df2[\"tokens\"] = no_links(df2)\n",
        "df2[\"tokens\"] = no_at(df2)\n",
        "df2[\"tokens\"] = remove_punct(df2)\n",
        "df2[\"tokens\"] = convert_lower(df2)\n",
        "df2[\"tokens\"] = stem(df2)\n",
        "df2[\"tokens\"] = remove_stopwords(df2)\n",
        "df2[\"tokens\"] = lemmatize(df2)\n",
        "df2"
      ],
      "execution_count": null,
      "outputs": [
        {
          "output_type": "execute_result",
          "data": {
            "text/html": [
              "<div>\n",
              "<style scoped>\n",
              "    .dataframe tbody tr th:only-of-type {\n",
              "        vertical-align: middle;\n",
              "    }\n",
              "\n",
              "    .dataframe tbody tr th {\n",
              "        vertical-align: top;\n",
              "    }\n",
              "\n",
              "    .dataframe thead th {\n",
              "        text-align: right;\n",
              "    }\n",
              "</style>\n",
              "<table border=\"1\" class=\"dataframe\">\n",
              "  <thead>\n",
              "    <tr style=\"text-align: right;\">\n",
              "      <th></th>\n",
              "      <th>tweet</th>\n",
              "      <th>tokens</th>\n",
              "    </tr>\n",
              "  </thead>\n",
              "  <tbody>\n",
              "    <tr>\n",
              "      <th>0</th>\n",
              "      <td>The fool who posed on a Australian flag mask. ...</td>\n",
              "      <td>[fool, pose, australian, flag, mask, clown, ru...</td>\n",
              "    </tr>\n",
              "    <tr>\n",
              "      <th>1</th>\n",
              "      <td>Social Distance? Using of nose mask? Officials...</td>\n",
              "      <td>[social, distanc, use, nose, mask, offici, col...</td>\n",
              "    </tr>\n",
              "    <tr>\n",
              "      <th>2</th>\n",
              "      <td>@Jasmijn53423438 @vickypallom @louslilshit @lw...</td>\n",
              "      <td>[loui, wa, photograph, mexico, without, mask, ...</td>\n",
              "    </tr>\n",
              "    <tr>\n",
              "      <th>3</th>\n",
              "      <td>@blackkn05858615 No place in the world is norm...</td>\n",
              "      <td>[place, world, normal, wear, mask, social, dis...</td>\n",
              "    </tr>\n",
              "    <tr>\n",
              "      <th>4</th>\n",
              "      <td>@AndyBurnhamGM @KateWilton1 @Sacha_Lord @hugho...</td>\n",
              "      <td>[rememb, time, peopl, allow, smoke, pub, woul]</td>\n",
              "    </tr>\n",
              "    <tr>\n",
              "      <th>...</th>\n",
              "      <td>...</td>\n",
              "      <td>...</td>\n",
              "    </tr>\n",
              "    <tr>\n",
              "      <th>1995</th>\n",
              "      <td>just because the covid vaccine is being releas...</td>\n",
              "      <td>[becaus, covid, vaccin, releas, dosnt, mean, g...</td>\n",
              "    </tr>\n",
              "    <tr>\n",
              "      <th>1996</th>\n",
              "      <td>@laura_detroit @yesimblonde17 @TaylenandKatie ...</td>\n",
              "      <td>[compli, wear, mask, social, distanc]</td>\n",
              "    </tr>\n",
              "    <tr>\n",
              "      <th>1997</th>\n",
              "      <td>@lululemon maybe I can show you pictures of my...</td>\n",
              "      <td>[mayb, show, pictur, face, look, like, wear, n...</td>\n",
              "    </tr>\n",
              "    <tr>\n",
              "      <th>1998</th>\n",
              "      <td>@KVHendry @RosieDuffield1 @PCCKent It's weird ...</td>\n",
              "      <td>[weird, becaus, texa, case, start, go, soon, s...</td>\n",
              "    </tr>\n",
              "    <tr>\n",
              "      <th>1999</th>\n",
              "      <td>@CollinCapone That mask isn’t protecting you f...</td>\n",
              "      <td>[mask, isnt, protect, covid, anyth, better, br...</td>\n",
              "    </tr>\n",
              "  </tbody>\n",
              "</table>\n",
              "<p>2000 rows × 2 columns</p>\n",
              "</div>"
            ],
            "text/plain": [
              "                                                  tweet                                             tokens\n",
              "0     The fool who posed on a Australian flag mask. ...  [fool, pose, australian, flag, mask, clown, ru...\n",
              "1     Social Distance? Using of nose mask? Officials...  [social, distanc, use, nose, mask, offici, col...\n",
              "2     @Jasmijn53423438 @vickypallom @louslilshit @lw...  [loui, wa, photograph, mexico, without, mask, ...\n",
              "3     @blackkn05858615 No place in the world is norm...  [place, world, normal, wear, mask, social, dis...\n",
              "4     @AndyBurnhamGM @KateWilton1 @Sacha_Lord @hugho...     [rememb, time, peopl, allow, smoke, pub, woul]\n",
              "...                                                 ...                                                ...\n",
              "1995  just because the covid vaccine is being releas...  [becaus, covid, vaccin, releas, dosnt, mean, g...\n",
              "1996  @laura_detroit @yesimblonde17 @TaylenandKatie ...              [compli, wear, mask, social, distanc]\n",
              "1997  @lululemon maybe I can show you pictures of my...  [mayb, show, pictur, face, look, like, wear, n...\n",
              "1998  @KVHendry @RosieDuffield1 @PCCKent It's weird ...  [weird, becaus, texa, case, start, go, soon, s...\n",
              "1999  @CollinCapone That mask isn’t protecting you f...  [mask, isnt, protect, covid, anyth, better, br...\n",
              "\n",
              "[2000 rows x 2 columns]"
            ]
          },
          "metadata": {
            "tags": []
          },
          "execution_count": 165
        }
      ]
    },
    {
      "cell_type": "code",
      "metadata": {
        "id": "-KOvZHlFtXIW"
      },
      "source": [
        "part2_X = df2['tokens'].to_numpy()\n",
        "\n",
        "def override_fcn(doc):\n",
        "  # We expect a list of tokens as input\n",
        "  return doc\n",
        "\n",
        "# Count Vectorizer\n",
        "count_vec = CountVectorizer(\n",
        "    analyzer='word',\n",
        "    tokenizer= override_fcn,\n",
        "    preprocessor= override_fcn,\n",
        "    token_pattern= None,\n",
        "    max_features = 5500)\n",
        "\n",
        "X, y = df['tokens'].to_numpy(), df['attitude'].to_numpy()\n",
        "\n",
        "\n",
        "# Remember this output is a Scipy Sparse Array\n",
        "full_X = np.concatenate([X, part2_X])\n",
        "\n",
        "part2_counts = count_vec.fit_transform(full_X)\n",
        "\n",
        "tfidf = TfidfTransformer()\n",
        "\n",
        "tfs = tfidf.fit_transform(part2_counts)\n",
        "\n",
        "part2_X = tfs.toarray()\n",
        "\n",
        "X, monthX = part2_X[:np.size(X), :], part2_X[np.size(X):,:]\n",
        "\n",
        "nb = MultinomialNB()\n",
        "nb.fit(X, y)\n",
        "\n",
        "part2_pred = nb.predict(monthX)"
      ],
      "execution_count": null,
      "outputs": []
    },
    {
      "cell_type": "code",
      "metadata": {
        "id": "TShOueDfyYzG",
        "colab": {
          "base_uri": "https://localhost:8080/"
        },
        "outputId": "6a87f962-758c-4aec-c66e-af29439ae166"
      },
      "source": [
        "np.sum(part2_pred == 1)/2000"
      ],
      "execution_count": null,
      "outputs": [
        {
          "output_type": "execute_result",
          "data": {
            "text/plain": [
              "0.5675"
            ]
          },
          "metadata": {
            "tags": []
          },
          "execution_count": 214
        }
      ]
    },
    {
      "cell_type": "markdown",
      "metadata": {
        "id": "S7XczNvI2QHo"
      },
      "source": [
        "Research Question 3 Vaccine"
      ]
    },
    {
      "cell_type": "code",
      "metadata": {
        "id": "q5ugsusX2T8j"
      },
      "source": [
        "vacdf1 = search_positive('#vaccinated', 1000)\n",
        "vacdf2 = search_positive('#doyourpart', 300)\n",
        "vacdf3 = search_positive('#vaccinate', 900)"
      ],
      "execution_count": null,
      "outputs": []
    },
    {
      "cell_type": "code",
      "metadata": {
        "id": "8YQM2U-P27eC"
      },
      "source": [
        "no_vacdf1 = search_negative('#novaccine', 150)\n",
        "no_vacdf2 = search_negative('#novaccinepassport', 150)\n",
        "no_vacdf3 = search_negative('#novaccineforme', 200)\n",
        "no_vacdf4 = search_negative('#antivaxxers', 300)\n",
        "no_vacdf5 = search_negative('#antivaccine', 100)\n",
        "no_vacdf6 = search_negative('#antivaxxer', 100)\n",
        "no_vacdf7 = search_negative('#antivax', 200)"
      ],
      "execution_count": null,
      "outputs": []
    },
    {
      "cell_type": "code",
      "metadata": {
        "id": "krg33Uqw3sWl"
      },
      "source": [
        "frame_vec = [vacdf1, vacdf2, vacdf3, no_vacdf1, no_vacdf2, no_vacdf3, no_vacdf4, no_vacdf5, no_vacdf6, no_vacdf7]\n",
        "df3 = pd.concat(frame_vec)"
      ],
      "execution_count": null,
      "outputs": []
    },
    {
      "cell_type": "code",
      "metadata": {
        "id": "Of9w7l0B4bOt"
      },
      "source": [
        "df3[\"tokens\"] = tokenize(df3)\n",
        "df3[\"tokens\"] = no_links(df3)\n",
        "df3[\"tokens\"] = no_at(df3)\n",
        "df3[\"tokens\"] = remove_punct(df3)\n",
        "df3[\"tokens\"] = convert_lower(df3)\n",
        "df3[\"tokens\"] = stem(df3)\n",
        "df3[\"tokens\"] = remove_stopwords(df3)\n",
        "df3[\"tokens\"] = lemmatize(df3)"
      ],
      "execution_count": null,
      "outputs": []
    },
    {
      "cell_type": "code",
      "metadata": {
        "id": "O-jkCkRm5Du9"
      },
      "source": [
        "df3['tokens'] = remove_tag(df3, '^#[vV][aA][cC][cC][iI][nN][aA][tT][eE][dD].*$')\n",
        "df3['tokens'] = remove_tag(df3, '^#[dD][oO][yY][oO][uU][rR][pP][aA][rR][tT].*$')\n",
        "df3['tokens'] = remove_tag(df3, '^#[vV][aA][cC][cC][iI][nN][aA][tT][eE].*$')\n",
        "df3['tokens'] = remove_tag(df3, '^#[nN][oO][vV][aA][cC][cC][iI][nN][eE].*$')\n",
        "df3['tokens'] = remove_tag(df3, '^#[nN][oO][vV][aA][cC][cC][iI][nN][eE][pP][aA][sS][sS][pP][oO][rR][tT].*$')\n",
        "df3['tokens'] = remove_tag(df3, '^#[nN][oO][vV][aA][cC][cC][iI][nN][eE][fF][oO][rR][mM][eE].*$')\n",
        "df3['tokens'] = remove_tag(df3, '^#[aA][nN][tT][iI][vV][aA][xX][xX][eE][rR][sS].*$')\n",
        "df3['tokens'] = remove_tag(df3, '^#[aA][nN][tT][iI][vV][aA][cC][cC][iI][nN][eE].*$')\n",
        "df3['tokens'] = remove_tag(df3, '^#[aA][nN][tT][iI][vV][aA][xX][xX][eE][rR].*$')\n",
        "df3['tokens'] = remove_tag(df3, '^#[aA][nN][tT][iI][vV][aA][xX].*$')"
      ],
      "execution_count": null,
      "outputs": []
    },
    {
      "cell_type": "code",
      "metadata": {
        "id": "JNpUpWev6lgF"
      },
      "source": [
        "X3, y3 = df3['tokens'].to_numpy(), df3['attitude'].to_numpy()\n",
        "\n",
        "\n",
        "def override_fcn(doc):\n",
        "  # We expect a list of tokens as input\n",
        "  return doc\n",
        "\n",
        "# Count Vectorizer\n",
        "count_vec3 = CountVectorizer(\n",
        "    analyzer='word',\n",
        "    tokenizer= override_fcn,\n",
        "    preprocessor= override_fcn,\n",
        "    token_pattern= None,\n",
        "    max_features = 1000)\n",
        "\n",
        "# Remember this output is a Scipy Sparse Array\n",
        "counts3 = count_vec3.fit_transform(X3)"
      ],
      "execution_count": null,
      "outputs": []
    },
    {
      "cell_type": "code",
      "metadata": {
        "id": "mC9uaiE068Z4",
        "colab": {
          "base_uri": "https://localhost:8080/"
        },
        "outputId": "cd2e6e6c-005a-4610-97ef-ec50311e8d99"
      },
      "source": [
        "tfidf3 = TfidfTransformer()\n",
        "\n",
        "tfs3 = tfidf3.fit_transform(counts3)\n",
        "\n",
        "print(tfs3.toarray())\n",
        "\n",
        "# Let's use the TFIDF counts for modelling\n",
        "X3 = tfs3.toarray()\n",
        "\n",
        "# Split the data into training and test sets\n",
        "X_train3, X_test3, y_train3, y_test3 = train_test_split(X3, y3, test_size = 0.2, random_state = 42)"
      ],
      "execution_count": null,
      "outputs": [
        {
          "output_type": "stream",
          "text": [
            "[[0. 0. 0. ... 0. 0. 0.]\n",
            " [0. 0. 0. ... 0. 0. 0.]\n",
            " [0. 0. 0. ... 0. 0. 0.]\n",
            " ...\n",
            " [0. 0. 0. ... 0. 0. 0.]\n",
            " [0. 0. 0. ... 0. 0. 0.]\n",
            " [0. 0. 0. ... 0. 0. 0.]]\n"
          ],
          "name": "stdout"
        }
      ]
    },
    {
      "cell_type": "code",
      "metadata": {
        "id": "durJaA4X7DEn",
        "colab": {
          "base_uri": "https://localhost:8080/",
          "height": 313
        },
        "outputId": "d3dd7c80-3664-4f26-b2f8-3f97a8a68044"
      },
      "source": [
        "nb3 = MultinomialNB()\n",
        "# Fit model to training data\n",
        "nb3.fit(X_train3, y_train3)\n",
        "# Predict on test data\n",
        "y_preds3 = nb3.predict(X_test3)\n",
        "\n",
        "print('Test accuracy with simple Naive Bayes:',accuracy_score(y_test3,y_preds3))\n",
        "# We get a very good accuracy, despite class imbalance (recall 87% were Ham)\n",
        "\n",
        "\n",
        "# # Plot the ROC curve \n",
        "fpr, tpr, thresholds = roc_curve(y_test3, y_preds3, pos_label = 1)\n",
        "\n",
        "plt.plot(fpr,tpr)\n",
        "plt.xlabel('False Positive Rate')\n",
        "plt.ylabel('True Positive Rate')\n",
        "plt.title('Receiver Operator Characteristic (ROC) Curve')\n",
        "plt.show()"
      ],
      "execution_count": null,
      "outputs": [
        {
          "output_type": "stream",
          "text": [
            "Test accuracy with simple Naive Bayes: 0.8683431952662722\n"
          ],
          "name": "stdout"
        },
        {
          "output_type": "display_data",
          "data": {
            "image/png": "[encoded data removed]",
            "text/plain": [
              "<Figure size 432x288 with 1 Axes>"
            ]
          },
          "metadata": {
            "tags": [],
            "needs_background": "light"
          }
        }
      ]
    },
    {
      "cell_type": "markdown",
      "metadata": {
        "id": "MC7rx2zP7otn"
      },
      "source": [
        "Use model for vaccine to predict for wearing mask, to see if we can get some interesting findings"
      ]
    },
    {
      "cell_type": "code",
      "metadata": {
        "colab": {
          "base_uri": "https://localhost:8080/"
        },
        "id": "drEzNg_fQdxq",
        "outputId": "7687e34b-d2e5-4603-b280-e5cb6e1afbaa"
      },
      "source": [
        "len(X_train3)"
      ],
      "execution_count": null,
      "outputs": [
        {
          "output_type": "execute_result",
          "data": {
            "text/plain": [
              "2704"
            ]
          },
          "metadata": {
            "tags": []
          },
          "execution_count": 299
        }
      ]
    },
    {
      "cell_type": "code",
      "metadata": {
        "colab": {
          "base_uri": "https://localhost:8080/"
        },
        "id": "_UCEw26ORDLs",
        "outputId": "65ef8d5d-751e-434f-a3e1-531efb965c2e"
      },
      "source": [
        "X_test"
      ],
      "execution_count": null,
      "outputs": [
        {
          "output_type": "execute_result",
          "data": {
            "text/plain": [
              "array([[0., 0., 0., ..., 0., 0., 0.],\n",
              "       [0., 0., 0., ..., 0., 0., 0.],\n",
              "       [0., 0., 0., ..., 0., 0., 0.],\n",
              "       ...,\n",
              "       [0., 0., 0., ..., 0., 0., 0.],\n",
              "       [0., 0., 0., ..., 0., 0., 0.],\n",
              "       [0., 0., 0., ..., 0., 0., 0.]])"
            ]
          },
          "metadata": {
            "tags": []
          },
          "execution_count": 300
        }
      ]
    },
    {
      "cell_type": "code",
      "metadata": {
        "colab": {
          "base_uri": "https://localhost:8080/",
          "height": 313
        },
        "id": "OjStDRs3SpqM",
        "outputId": "02fa0c4b-5da5-4862-86e5-cf396400e271"
      },
      "source": [
        "X, y = df['tokens'].to_numpy(), df['attitude'].to_numpy()\n",
        "X2, y2 = df3['tokens'].to_numpy(), df3['attitude'].to_numpy()\n",
        "\n",
        "def override_fcn(doc):\n",
        "  # We expect a list of tokens as input\n",
        "  return doc\n",
        "\n",
        "# Count Vectorizer\n",
        "count_vec = CountVectorizer(\n",
        "    analyzer='word',\n",
        "    tokenizer= override_fcn,\n",
        "    preprocessor= override_fcn,\n",
        "    token_pattern= None,\n",
        "    max_features = 1000)\n",
        "\n",
        "# Remember this output is a Scipy Sparse Array\n",
        "full_X = np.concatenate([X, X2])\n",
        "\n",
        "counts = count_vec.fit_transform(full_X)\n",
        "\n",
        "tfidf = TfidfTransformer()\n",
        "\n",
        "tfs = tfidf.fit_transform(counts)\n",
        "\n",
        "mv_X = tfs.toarray()\n",
        "\n",
        "X, X2 = mv_X[:np.size(X), :], mv_X[np.size(X):,:]\n",
        "\n",
        "nb = MultinomialNB()\n",
        "nb.fit(X, y)\n",
        "\n",
        "pred = nb.predict(X2)\n",
        "\n",
        "print('Test accuracy with simple Naive Bayes:',accuracy_score(pred,y2))\n",
        "# We get a very good accuracy, despite class imbalance (recall 87% were Ham)\n",
        "\n",
        "\n",
        "# # Plot the ROC curve \n",
        "fpr, tpr, thresholds = roc_curve(y2,pred, pos_label = 1)\n",
        "\n",
        "plt.plot(fpr,tpr)\n",
        "plt.xlabel('False Positive Rate')\n",
        "plt.ylabel('True Positive Rate')\n",
        "plt.title('Receiver Operator Characteristic (ROC) Curve')\n",
        "plt.show()"
      ],
      "execution_count": null,
      "outputs": [
        {
          "output_type": "stream",
          "text": [
            "Test accuracy with simple Naive Bayes: 0.7760355029585799\n"
          ],
          "name": "stdout"
        },
        {
          "output_type": "display_data",
          "data": {
            "image/png": "[encoded data removed]",
            "text/plain": [
              "<Figure size 432x288 with 1 Axes>"
            ]
          },
          "metadata": {
            "tags": [],
            "needs_background": "light"
          }
        }
      ]
    },
    {
      "cell_type": "code",
      "metadata": {
        "colab": {
          "base_uri": "https://localhost:8080/",
          "height": 243
        },
        "id": "c9xDc4BeTOV1",
        "outputId": "72fbe67e-4129-4ec5-84bd-438cc8b7ff6d"
      },
      "source": [
        "nb = MultinomialNB()\n",
        "nb.fit(X2, y2)\n",
        "\n",
        "pred = nb.predict(X)\n",
        "\n",
        "print('Test accuracy with simple Naive Bayes:',accuracy_score(pred,y))\n",
        "# We get a very good accuracy, despite class imbalance (recall 87% were Ham)\n",
        "\n",
        "\n",
        "# # Plot the ROC curve \n",
        "fpr, tpr, thresholds = roc_curve(y,pred, pos_label = 1)\n",
        "\n",
        "plt.plot(fpr,tpr)\n",
        "plt.xlabel('False Positive Rate')\n",
        "plt.ylabel('True Positive Rate')\n",
        "plt.title('Receiver Operator Characteristic (ROC) Curve')\n",
        "plt.show()"
      ],
      "execution_count": null,
      "outputs": [
        {
          "output_type": "error",
          "ename": "NameError",
          "evalue": "ignored",
          "traceback": [
            "\u001b[0;31m---------------------------------------------------------------------------\u001b[0m",
            "\u001b[0;31mNameError\u001b[0m                                 Traceback (most recent call last)",
            "\u001b[0;32m<ipython-input-1-ac85e89bb7c2>\u001b[0m in \u001b[0;36m<module>\u001b[0;34m()\u001b[0m\n\u001b[0;32m----> 1\u001b[0;31m \u001b[0mnb\u001b[0m \u001b[0;34m=\u001b[0m \u001b[0mMultinomialNB\u001b[0m\u001b[0;34m(\u001b[0m\u001b[0;34m)\u001b[0m\u001b[0;34m\u001b[0m\u001b[0;34m\u001b[0m\u001b[0m\n\u001b[0m\u001b[1;32m      2\u001b[0m \u001b[0mnb\u001b[0m\u001b[0;34m.\u001b[0m\u001b[0mfit\u001b[0m\u001b[0;34m(\u001b[0m\u001b[0mX2\u001b[0m\u001b[0;34m,\u001b[0m \u001b[0my2\u001b[0m\u001b[0;34m)\u001b[0m\u001b[0;34m\u001b[0m\u001b[0;34m\u001b[0m\u001b[0m\n\u001b[1;32m      3\u001b[0m \u001b[0;34m\u001b[0m\u001b[0m\n\u001b[1;32m      4\u001b[0m \u001b[0mpred\u001b[0m \u001b[0;34m=\u001b[0m \u001b[0mnb\u001b[0m\u001b[0;34m.\u001b[0m\u001b[0mpredict\u001b[0m\u001b[0;34m(\u001b[0m\u001b[0mX\u001b[0m\u001b[0;34m)\u001b[0m\u001b[0;34m\u001b[0m\u001b[0;34m\u001b[0m\u001b[0m\n\u001b[1;32m      5\u001b[0m \u001b[0;34m\u001b[0m\u001b[0m\n",
            "\u001b[0;31mNameError\u001b[0m: name 'MultinomialNB' is not defined"
          ]
        }
      ]
    }
  ]
}